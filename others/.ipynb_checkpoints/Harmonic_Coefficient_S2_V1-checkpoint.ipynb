{
 "cells": [
  {
   "cell_type": "code",
   "execution_count": 1,
   "id": "8d77534f-4ef3-4e3b-8185-06f609a71386",
   "metadata": {
    "tags": []
   },
   "outputs": [],
   "source": [
    "# Import code we'll use from Azzari et al.\n",
    "from gee_tools import harmonics\n",
    "from gee_tools.datasources import sentinel2_2a"
   ]
  },
  {
   "cell_type": "code",
   "execution_count": 2,
   "id": "1fec1257-512a-411a-b830-3f6bbab8c8d2",
   "metadata": {},
   "outputs": [],
   "source": [
    "from gee_tools import *"
   ]
  },
  {
   "cell_type": "code",
   "execution_count": 3,
   "id": "2c044c40-9a3d-4385-a12e-aba952b22c67",
   "metadata": {
    "tags": []
   },
   "outputs": [],
   "source": [
    "try:\n",
    "    import geemap, ee\n",
    "except ModuleNotFoundError:\n",
    "    if 'google.colab' in str(get_ipython()):\n",
    "        print(\"package not found, installing w/ pip in Google Colab...\")\n",
    "        !pip install geemap\n",
    "    else:\n",
    "        print(\"package not found, installing w/ conda...\")\n",
    "        !conda install mamba -c conda-forge -y\n",
    "        !mamba install geemap -c conda-forge -y\n",
    "    import geemap, ee"
   ]
  },
  {
   "cell_type": "code",
   "execution_count": 4,
   "id": "e0bd0656-8651-4045-9770-04e217002ace",
   "metadata": {
    "tags": []
   },
   "outputs": [
    {
     "data": {
      "text/html": [
       "\n",
       "            <style>\n",
       "                .geemap-dark {\n",
       "                    --jp-widgets-color: white;\n",
       "                    --jp-widgets-label-color: white;\n",
       "                    --jp-ui-font-color1: white;\n",
       "                    --jp-layout-color2: #454545;\n",
       "                    background-color: #383838;\n",
       "                }\n",
       "                    \n",
       "                .geemap-dark .jupyter-button {\n",
       "                    --jp-layout-color3: #383838;\n",
       "                }\n",
       "                \n",
       "                .geemap-colab {\n",
       "                    background-color: var(--colab-primary-surface-color, white);\n",
       "                }\n",
       "                    \n",
       "                .geemap-colab .jupyter-button {\n",
       "                    --jp-layout-color3: var(--colab-primary-surface-color, white);\n",
       "                }\n",
       "            </style>\n",
       "            "
      ],
      "text/plain": [
       "<IPython.core.display.HTML object>"
      ]
     },
     "metadata": {},
     "output_type": "display_data"
    },
    {
     "data": {
      "text/html": [
       "<p>To authorize access needed by Earth Engine, open the following\n",
       "        URL in a web browser and follow the instructions:</p>\n",
       "        <p><a href=https://code.earthengine.google.com/client-auth?scopes=https%3A//www.googleapis.com/auth/earthengine%20https%3A//www.googleapis.com/auth/devstorage.full_control&request_id=7j7vfXz_w19-tnva59nztNTHu_bVl8h-p3UsAPSu1cw&tc=IGDLNWLxNqV6gHyQA8OVoouBh0IQLvev3lqvVbQy0F0&cc=H2I5rHlCpKuGAFX1pF7OHWCYUuyxF2pTxbpSXyd0ddk>https://code.earthengine.google.com/client-auth?scopes=https%3A//www.googleapis.com/auth/earthengine%20https%3A//www.googleapis.com/auth/devstorage.full_control&request_id=7j7vfXz_w19-tnva59nztNTHu_bVl8h-p3UsAPSu1cw&tc=IGDLNWLxNqV6gHyQA8OVoouBh0IQLvev3lqvVbQy0F0&cc=H2I5rHlCpKuGAFX1pF7OHWCYUuyxF2pTxbpSXyd0ddk</a></p>\n",
       "        <p>The authorization workflow will generate a code, which you should paste in the box below.</p>\n",
       "        "
      ],
      "text/plain": [
       "<IPython.core.display.HTML object>"
      ]
     },
     "metadata": {},
     "output_type": "display_data"
    },
    {
     "name": "stdin",
     "output_type": "stream",
     "text": [
      "Enter verification code:  4/1AcvDMrCyHfsEo3dcQHktMRwMrgXLKfpPI8j77q4Tt_ZcvT0QlQ7PDlZ_uac\n"
     ]
    },
    {
     "name": "stdout",
     "output_type": "stream",
     "text": [
      "\n",
      "Successfully saved authorization token.\n"
     ]
    }
   ],
   "source": [
    "try:\n",
    "    ee.Initialize()\n",
    "except Exception as e:\n",
    "    ee.Authenticate()\n",
    "    ee.Initialize()"
   ]
  },
  {
   "cell_type": "code",
   "execution_count": 5,
   "id": "1eb29b6e-7fab-4c15-88c0-bb4d38f9b0a4",
   "metadata": {
    "tags": []
   },
   "outputs": [
    {
     "data": {
      "text/html": [
       "\n",
       "            <style>\n",
       "                .geemap-dark {\n",
       "                    --jp-widgets-color: white;\n",
       "                    --jp-widgets-label-color: white;\n",
       "                    --jp-ui-font-color1: white;\n",
       "                    --jp-layout-color2: #454545;\n",
       "                    background-color: #383838;\n",
       "                }\n",
       "                    \n",
       "                .geemap-dark .jupyter-button {\n",
       "                    --jp-layout-color3: #383838;\n",
       "                }\n",
       "                \n",
       "                .geemap-colab {\n",
       "                    background-color: var(--colab-primary-surface-color, white);\n",
       "                }\n",
       "                    \n",
       "                .geemap-colab .jupyter-button {\n",
       "                    --jp-layout-color3: var(--colab-primary-surface-color, white);\n",
       "                }\n",
       "            </style>\n",
       "            "
      ],
      "text/plain": [
       "<IPython.core.display.HTML object>"
      ]
     },
     "metadata": {},
     "output_type": "display_data"
    }
   ],
   "source": [
    "state = 'Kansas'\n",
    "roi = ee.FeatureCollection('TIGER/2018/States').filter(ee.Filter.inList(\"NAME\", [state]))"
   ]
  },
  {
   "cell_type": "code",
   "execution_count": 6,
   "id": "b617f2d0-0ec0-43ef-bfb0-a25019880bf8",
   "metadata": {
    "tags": []
   },
   "outputs": [
    {
     "data": {
      "text/html": [
       "\n",
       "            <style>\n",
       "                .geemap-dark {\n",
       "                    --jp-widgets-color: white;\n",
       "                    --jp-widgets-label-color: white;\n",
       "                    --jp-ui-font-color1: white;\n",
       "                    --jp-layout-color2: #454545;\n",
       "                    background-color: #383838;\n",
       "                }\n",
       "                    \n",
       "                .geemap-dark .jupyter-button {\n",
       "                    --jp-layout-color3: #383838;\n",
       "                }\n",
       "                \n",
       "                .geemap-colab {\n",
       "                    background-color: var(--colab-primary-surface-color, white);\n",
       "                }\n",
       "                    \n",
       "                .geemap-colab .jupyter-button {\n",
       "                    --jp-layout-color3: var(--colab-primary-surface-color, white);\n",
       "                }\n",
       "            </style>\n",
       "            "
      ],
      "text/plain": [
       "<IPython.core.display.HTML object>"
      ]
     },
     "metadata": {},
     "output_type": "display_data"
    }
   ],
   "source": [
    "# ndvi = greenest.select('GCVI')\n",
    "# palette = [\n",
    "#     '#d73027',\n",
    "#     '#f46d43',\n",
    "#     '#fdae61',\n",
    "#     '#fee08b',\n",
    "#     '#d9ef8b',\n",
    "#     '#a6d96a',\n",
    "#     '#66bd63',\n",
    "#     '#1a9850',\n",
    "# ]\n",
    "#Map.addLayer(ndvi.clip(roi), {'palette': palette}, 'GCVI')\n",
    "#Map\n",
    "# Map.addLayer(roi)\n",
    "# Map\n"
   ]
  },
  {
   "cell_type": "code",
   "execution_count": 7,
   "id": "cd922697-819a-4c96-8972-6f5cdc4466c8",
   "metadata": {
    "tags": []
   },
   "outputs": [
    {
     "data": {
      "text/html": [
       "\n",
       "            <style>\n",
       "                .geemap-dark {\n",
       "                    --jp-widgets-color: white;\n",
       "                    --jp-widgets-label-color: white;\n",
       "                    --jp-ui-font-color1: white;\n",
       "                    --jp-layout-color2: #454545;\n",
       "                    background-color: #383838;\n",
       "                }\n",
       "                    \n",
       "                .geemap-dark .jupyter-button {\n",
       "                    --jp-layout-color3: #383838;\n",
       "                }\n",
       "                \n",
       "                .geemap-colab {\n",
       "                    background-color: var(--colab-primary-surface-color, white);\n",
       "                }\n",
       "                    \n",
       "                .geemap-colab .jupyter-button {\n",
       "                    --jp-layout-color3: var(--colab-primary-surface-color, white);\n",
       "                }\n",
       "            </style>\n",
       "            "
      ],
      "text/plain": [
       "<IPython.core.display.HTML object>"
      ]
     },
     "metadata": {},
     "output_type": "display_data"
    }
   ],
   "source": [
    "anio = 2020"
   ]
  },
  {
   "cell_type": "code",
   "execution_count": 8,
   "id": "dbd2f0f0-d0a3-4027-91c9-37c0e2ddcc0e",
   "metadata": {
    "tags": []
   },
   "outputs": [
    {
     "data": {
      "text/html": [
       "\n",
       "            <style>\n",
       "                .geemap-dark {\n",
       "                    --jp-widgets-color: white;\n",
       "                    --jp-widgets-label-color: white;\n",
       "                    --jp-ui-font-color1: white;\n",
       "                    --jp-layout-color2: #454545;\n",
       "                    background-color: #383838;\n",
       "                }\n",
       "                    \n",
       "                .geemap-dark .jupyter-button {\n",
       "                    --jp-layout-color3: #383838;\n",
       "                }\n",
       "                \n",
       "                .geemap-colab {\n",
       "                    background-color: var(--colab-primary-surface-color, white);\n",
       "                }\n",
       "                    \n",
       "                .geemap-colab .jupyter-button {\n",
       "                    --jp-layout-color3: var(--colab-primary-surface-color, white);\n",
       "                }\n",
       "            </style>\n",
       "            "
      ],
      "text/plain": [
       "<IPython.core.display.HTML object>"
      ]
     },
     "metadata": {},
     "output_type": "display_data"
    }
   ],
   "source": [
    "cdl = ee.Image('USDA/NASS/CDL/{0}'.format(anio)).select('cropland')\n",
    "\n",
    "masked = cdl.updateMask(cdl.eq(5).Or(cdl.eq(26)).Or(cdl.eq(254)))\n",
    "\n",
    "remasked = masked.where(masked.eq(5), 0).where(masked.eq(26), 1).where(masked.eq(254), 1)\n"
   ]
  },
  {
   "cell_type": "code",
   "execution_count": 9,
   "id": "0d708fb4-7836-4719-a934-c7d17895c984",
   "metadata": {},
   "outputs": [
    {
     "data": {
      "text/html": [
       "\n",
       "            <style>\n",
       "                .geemap-dark {\n",
       "                    --jp-widgets-color: white;\n",
       "                    --jp-widgets-label-color: white;\n",
       "                    --jp-ui-font-color1: white;\n",
       "                    --jp-layout-color2: #454545;\n",
       "                    background-color: #383838;\n",
       "                }\n",
       "                    \n",
       "                .geemap-dark .jupyter-button {\n",
       "                    --jp-layout-color3: #383838;\n",
       "                }\n",
       "                \n",
       "                .geemap-colab {\n",
       "                    background-color: var(--colab-primary-surface-color, white);\n",
       "                }\n",
       "                    \n",
       "                .geemap-colab .jupyter-button {\n",
       "                    --jp-layout-color3: var(--colab-primary-surface-color, white);\n",
       "                }\n",
       "            </style>\n",
       "            "
      ],
      "text/plain": [
       "<IPython.core.display.HTML object>"
      ]
     },
     "metadata": {},
     "output_type": "display_data"
    }
   ],
   "source": [
    "# Use Azzari et al's function to mask clouds\n",
    "def maskClouds_sr(img, bandnames):\n",
    "    scl = img.select(['SCL'])\n",
    "    clear = scl.updateMask(scl.eq(4) or (scl.eq(5)))\n",
    "    img = img.updateMask(clear)\n",
    "    return img.select(bandnames)"
   ]
  },
  {
   "cell_type": "code",
   "execution_count": 10,
   "id": "dccff8eb-1049-4836-ab58-a05ca5411058",
   "metadata": {
    "tags": []
   },
   "outputs": [
    {
     "data": {
      "text/html": [
       "\n",
       "            <style>\n",
       "                .geemap-dark {\n",
       "                    --jp-widgets-color: white;\n",
       "                    --jp-widgets-label-color: white;\n",
       "                    --jp-ui-font-color1: white;\n",
       "                    --jp-layout-color2: #454545;\n",
       "                    background-color: #383838;\n",
       "                }\n",
       "                    \n",
       "                .geemap-dark .jupyter-button {\n",
       "                    --jp-layout-color3: #383838;\n",
       "                }\n",
       "                \n",
       "                .geemap-colab {\n",
       "                    background-color: var(--colab-primary-surface-color, white);\n",
       "                }\n",
       "                    \n",
       "                .geemap-colab .jupyter-button {\n",
       "                    --jp-layout-color3: var(--colab-primary-surface-color, white);\n",
       "                }\n",
       "            </style>\n",
       "            "
      ],
      "text/plain": [
       "<IPython.core.display.HTML object>"
      ]
     },
     "metadata": {},
     "output_type": "display_data"
    }
   ],
   "source": [
    "# obtain extended timeframe for S2 SA imagery, if desired\n",
    "s2coll_2a_ext = sentinel2_2a.Sentinel2SR(roi.geometry(), \n",
    "                                     start_date = ee.Date('{0}-04-01'.format(anio)), \n",
    "                                     end_date = ee.Date('{0}-10-01'.format(anio)), \n",
    "                                     addVIs=True, \n",
    "                                     addCloudMasks=False).get_img_coll()\n",
    "# Define the bandames in the S2-2A data which we want to keep\n",
    "bandnames = ['GCVI']\n",
    "# Mask clouds\n",
    "s2coll_2a_ext = s2coll_2a_ext.map(lambda img: maskClouds_sr(img, bandnames))"
   ]
  },
  {
   "cell_type": "code",
   "execution_count": 11,
   "id": "9676e4e4-0faf-41da-a049-a104e3b763dd",
   "metadata": {
    "tags": []
   },
   "outputs": [
    {
     "data": {
      "text/html": [
       "\n",
       "            <style>\n",
       "                .geemap-dark {\n",
       "                    --jp-widgets-color: white;\n",
       "                    --jp-widgets-label-color: white;\n",
       "                    --jp-ui-font-color1: white;\n",
       "                    --jp-layout-color2: #454545;\n",
       "                    background-color: #383838;\n",
       "                }\n",
       "                    \n",
       "                .geemap-dark .jupyter-button {\n",
       "                    --jp-layout-color3: #383838;\n",
       "                }\n",
       "                \n",
       "                .geemap-colab {\n",
       "                    background-color: var(--colab-primary-surface-color, white);\n",
       "                }\n",
       "                    \n",
       "                .geemap-colab .jupyter-button {\n",
       "                    --jp-layout-color3: var(--colab-primary-surface-color, white);\n",
       "                }\n",
       "            </style>\n",
       "            "
      ],
      "text/plain": [
       "<IPython.core.display.HTML object>"
      ]
     },
     "metadata": {},
     "output_type": "display_data"
    }
   ],
   "source": [
    "s2coll_2a_ext = s2coll_2a_ext.map(lambda image: image.updateMask(remasked.eq(0).Or(remasked.eq(1))))"
   ]
  },
  {
   "cell_type": "markdown",
   "id": "a0a50377-3af9-4b17-b005-ffa704770b82",
   "metadata": {},
   "source": [
    "#### Ajuste de Regresiones Armonicas"
   ]
  },
  {
   "cell_type": "code",
   "execution_count": 12,
   "id": "92bc4e27-9069-4432-9ef8-127aa75e6370",
   "metadata": {
    "tags": []
   },
   "outputs": [
    {
     "data": {
      "text/html": [
       "\n",
       "            <style>\n",
       "                .geemap-dark {\n",
       "                    --jp-widgets-color: white;\n",
       "                    --jp-widgets-label-color: white;\n",
       "                    --jp-ui-font-color1: white;\n",
       "                    --jp-layout-color2: #454545;\n",
       "                    background-color: #383838;\n",
       "                }\n",
       "                    \n",
       "                .geemap-dark .jupyter-button {\n",
       "                    --jp-layout-color3: #383838;\n",
       "                }\n",
       "                \n",
       "                .geemap-colab {\n",
       "                    background-color: var(--colab-primary-surface-color, white);\n",
       "                }\n",
       "                    \n",
       "                .geemap-colab .jupyter-button {\n",
       "                    --jp-layout-color3: var(--colab-primary-surface-color, white);\n",
       "                }\n",
       "            </style>\n",
       "            "
      ],
      "text/plain": [
       "<IPython.core.display.HTML object>"
      ]
     },
     "metadata": {},
     "output_type": "display_data"
    }
   ],
   "source": [
    "# Filter for only our index of interest in this example, GCVI\n",
    "gcvi_ext = s2coll_2a_ext.select('GCVI')\n",
    "# Specify band in the ImageCollection we want to use in regression\n",
    "dep_bands = ['GCVI']\n",
    "\n",
    "# Run the regression to produce an image with our terms as bands; using first day of growing season as refdate\n",
    "hrmregr_coefs_gcvi_ext = harmonics.run_std_regressions(gcvi_ext,\n",
    "                                                       dep_bands,\n",
    "                                                       refdate='2020-04-08').float().clip(roi)\n"
   ]
  },
  {
   "cell_type": "code",
   "execution_count": 13,
   "id": "51d8b33b-dbcd-41ef-9357-bab23c9c0513",
   "metadata": {
    "tags": []
   },
   "outputs": [
    {
     "data": {
      "text/html": [
       "\n",
       "            <style>\n",
       "                .geemap-dark {\n",
       "                    --jp-widgets-color: white;\n",
       "                    --jp-widgets-label-color: white;\n",
       "                    --jp-ui-font-color1: white;\n",
       "                    --jp-layout-color2: #454545;\n",
       "                    background-color: #383838;\n",
       "                }\n",
       "                    \n",
       "                .geemap-dark .jupyter-button {\n",
       "                    --jp-layout-color3: #383838;\n",
       "                }\n",
       "                \n",
       "                .geemap-colab {\n",
       "                    background-color: var(--colab-primary-surface-color, white);\n",
       "                }\n",
       "                    \n",
       "                .geemap-colab .jupyter-button {\n",
       "                    --jp-layout-color3: var(--colab-primary-surface-color, white);\n",
       "                }\n",
       "            </style>\n",
       "            "
      ],
      "text/plain": [
       "<IPython.core.display.HTML object>"
      ]
     },
     "metadata": {},
     "output_type": "display_data"
    },
    {
     "data": {
      "text/plain": [
       "{'type': 'Projection', 'crs': 'EPSG:4326', 'transform': [1, 0, 0, 0, 1, 0]}"
      ]
     },
     "execution_count": 13,
     "metadata": {},
     "output_type": "execute_result"
    }
   ],
   "source": [
    "s2coll_2a_ext.median().projection().getInfo()"
   ]
  },
  {
   "cell_type": "code",
   "execution_count": 14,
   "id": "c02a083c-1c64-4992-afc6-24bae3fa198e",
   "metadata": {
    "tags": []
   },
   "outputs": [
    {
     "data": {
      "text/html": [
       "\n",
       "            <style>\n",
       "                .geemap-dark {\n",
       "                    --jp-widgets-color: white;\n",
       "                    --jp-widgets-label-color: white;\n",
       "                    --jp-ui-font-color1: white;\n",
       "                    --jp-layout-color2: #454545;\n",
       "                    background-color: #383838;\n",
       "                }\n",
       "                    \n",
       "                .geemap-dark .jupyter-button {\n",
       "                    --jp-layout-color3: #383838;\n",
       "                }\n",
       "                \n",
       "                .geemap-colab {\n",
       "                    background-color: var(--colab-primary-surface-color, white);\n",
       "                }\n",
       "                    \n",
       "                .geemap-colab .jupyter-button {\n",
       "                    --jp-layout-color3: var(--colab-primary-surface-color, white);\n",
       "                }\n",
       "            </style>\n",
       "            "
      ],
      "text/plain": [
       "<IPython.core.display.HTML object>"
      ]
     },
     "metadata": {},
     "output_type": "display_data"
    }
   ],
   "source": [
    "hrmregr_fit_gcvi_ext = harmonics.fit_harmonics(hrmregr_coefs_gcvi_ext,\n",
    "                                               gcvi_ext,\n",
    "                                               omega=1,\n",
    "                                               nharmonics=2,\n",
    "                                               bands=dep_bands,\n",
    "                                               refdate='{0}-04-08'.format(anio))"
   ]
  },
  {
   "cell_type": "code",
   "execution_count": null,
   "id": "9757a797-c92e-4d1f-bd7a-1f7fe59fc89a",
   "metadata": {
    "tags": []
   },
   "outputs": [],
   "source": [
    "hrmregr_fit_gcvi_ext.first().projection().getInfo()"
   ]
  },
  {
   "cell_type": "code",
   "execution_count": 16,
   "id": "5d761b8b-c0fa-435a-b794-a8e1c377000b",
   "metadata": {
    "tags": []
   },
   "outputs": [
    {
     "data": {
      "text/html": [
       "\n",
       "            <style>\n",
       "                .geemap-dark {\n",
       "                    --jp-widgets-color: white;\n",
       "                    --jp-widgets-label-color: white;\n",
       "                    --jp-ui-font-color1: white;\n",
       "                    --jp-layout-color2: #454545;\n",
       "                    background-color: #383838;\n",
       "                }\n",
       "                    \n",
       "                .geemap-dark .jupyter-button {\n",
       "                    --jp-layout-color3: #383838;\n",
       "                }\n",
       "                \n",
       "                .geemap-colab {\n",
       "                    background-color: var(--colab-primary-surface-color, white);\n",
       "                }\n",
       "                    \n",
       "                .geemap-colab .jupyter-button {\n",
       "                    --jp-layout-color3: var(--colab-primary-surface-color, white);\n",
       "                }\n",
       "            </style>\n",
       "            "
      ],
      "text/plain": [
       "<IPython.core.display.HTML object>"
      ]
     },
     "metadata": {},
     "output_type": "display_data"
    }
   ],
   "source": [
    "def addDate(image):\n",
    "    img_date = ee.Date(image.date())\n",
    "    img_date = ee.Number.parse(img_date.format('YYYYMMdd'))\n",
    "    return image.addBands(ee.Image(img_date).rename('date').toInt())"
   ]
  },
  {
   "cell_type": "code",
   "execution_count": 17,
   "id": "696325f4-efdf-4ede-b1f5-eebce6738cb9",
   "metadata": {
    "tags": []
   },
   "outputs": [
    {
     "data": {
      "text/html": [
       "\n",
       "            <style>\n",
       "                .geemap-dark {\n",
       "                    --jp-widgets-color: white;\n",
       "                    --jp-widgets-label-color: white;\n",
       "                    --jp-ui-font-color1: white;\n",
       "                    --jp-layout-color2: #454545;\n",
       "                    background-color: #383838;\n",
       "                }\n",
       "                    \n",
       "                .geemap-dark .jupyter-button {\n",
       "                    --jp-layout-color3: #383838;\n",
       "                }\n",
       "                \n",
       "                .geemap-colab {\n",
       "                    background-color: var(--colab-primary-surface-color, white);\n",
       "                }\n",
       "                    \n",
       "                .geemap-colab .jupyter-button {\n",
       "                    --jp-layout-color3: var(--colab-primary-surface-color, white);\n",
       "                }\n",
       "            </style>\n",
       "            "
      ],
      "text/plain": [
       "<IPython.core.display.HTML object>"
      ]
     },
     "metadata": {},
     "output_type": "display_data"
    }
   ],
   "source": [
    "def addMonth(image):\n",
    "    img_date = ee.Date(image.date())\n",
    "    img_doy = ee.Number.parse(img_date.format('M'))\n",
    "    return image.addBands(ee.Image(img_doy).rename('month').toInt())"
   ]
  },
  {
   "cell_type": "code",
   "execution_count": 18,
   "id": "865a98fd-2fb5-4c3b-9ccb-83e4e67e5a1f",
   "metadata": {
    "tags": []
   },
   "outputs": [
    {
     "data": {
      "text/html": [
       "\n",
       "            <style>\n",
       "                .geemap-dark {\n",
       "                    --jp-widgets-color: white;\n",
       "                    --jp-widgets-label-color: white;\n",
       "                    --jp-ui-font-color1: white;\n",
       "                    --jp-layout-color2: #454545;\n",
       "                    background-color: #383838;\n",
       "                }\n",
       "                    \n",
       "                .geemap-dark .jupyter-button {\n",
       "                    --jp-layout-color3: #383838;\n",
       "                }\n",
       "                \n",
       "                .geemap-colab {\n",
       "                    background-color: var(--colab-primary-surface-color, white);\n",
       "                }\n",
       "                    \n",
       "                .geemap-colab .jupyter-button {\n",
       "                    --jp-layout-color3: var(--colab-primary-surface-color, white);\n",
       "                }\n",
       "            </style>\n",
       "            "
      ],
      "text/plain": [
       "<IPython.core.display.HTML object>"
      ]
     },
     "metadata": {},
     "output_type": "display_data"
    }
   ],
   "source": [
    "def addDOY(image):\n",
    "    img_date = ee.Date(image.date())\n",
    "    img_doy = ee.Number.parse(img_date.format('D'))\n",
    "    return image.addBands(ee.Image(img_doy).rename('doy').toInt())"
   ]
  },
  {
   "cell_type": "code",
   "execution_count": 19,
   "id": "593ac09d-4e07-4bac-854a-09ec77dba3bd",
   "metadata": {
    "tags": []
   },
   "outputs": [
    {
     "data": {
      "text/html": [
       "\n",
       "            <style>\n",
       "                .geemap-dark {\n",
       "                    --jp-widgets-color: white;\n",
       "                    --jp-widgets-label-color: white;\n",
       "                    --jp-ui-font-color1: white;\n",
       "                    --jp-layout-color2: #454545;\n",
       "                    background-color: #383838;\n",
       "                }\n",
       "                    \n",
       "                .geemap-dark .jupyter-button {\n",
       "                    --jp-layout-color3: #383838;\n",
       "                }\n",
       "                \n",
       "                .geemap-colab {\n",
       "                    background-color: var(--colab-primary-surface-color, white);\n",
       "                }\n",
       "                    \n",
       "                .geemap-colab .jupyter-button {\n",
       "                    --jp-layout-color3: var(--colab-primary-surface-color, white);\n",
       "                }\n",
       "            </style>\n",
       "            "
      ],
      "text/plain": [
       "<IPython.core.display.HTML object>"
      ]
     },
     "metadata": {},
     "output_type": "display_data"
    }
   ],
   "source": [
    "withDOY = hrmregr_fit_gcvi_ext.map(addDate).map(addMonth).map(addDOY)"
   ]
  },
  {
   "cell_type": "markdown",
   "id": "9ebf6588-219a-4729-bd70-9cf54ce0fdc8",
   "metadata": {},
   "source": [
    "#### Seleccion del dia de mayor GCVI (pico de GCVI)"
   ]
  },
  {
   "cell_type": "code",
   "execution_count": 20,
   "id": "191a39b3-d157-4f54-a3e9-c46cc8afa852",
   "metadata": {
    "tags": []
   },
   "outputs": [
    {
     "data": {
      "text/html": [
       "\n",
       "            <style>\n",
       "                .geemap-dark {\n",
       "                    --jp-widgets-color: white;\n",
       "                    --jp-widgets-label-color: white;\n",
       "                    --jp-ui-font-color1: white;\n",
       "                    --jp-layout-color2: #454545;\n",
       "                    background-color: #383838;\n",
       "                }\n",
       "                    \n",
       "                .geemap-dark .jupyter-button {\n",
       "                    --jp-layout-color3: #383838;\n",
       "                }\n",
       "                \n",
       "                .geemap-colab {\n",
       "                    background-color: var(--colab-primary-surface-color, white);\n",
       "                }\n",
       "                    \n",
       "                .geemap-colab .jupyter-button {\n",
       "                    --jp-layout-color3: var(--colab-primary-surface-color, white);\n",
       "                }\n",
       "            </style>\n",
       "            "
      ],
      "text/plain": [
       "<IPython.core.display.HTML object>"
      ]
     },
     "metadata": {},
     "output_type": "display_data"
    }
   ],
   "source": [
    "greenest = withDOY.qualityMosaic('GCVI')\n",
    "Greenest_GCVI_DOY = ee.Image(greenest.select('doy').clip(roi)).updateMask(remasked.eq(0).Or(remasked.eq(1)))"
   ]
  },
  {
   "cell_type": "code",
   "execution_count": 21,
   "id": "4855e385-1056-4501-ad60-ab8d6111e698",
   "metadata": {
    "tags": []
   },
   "outputs": [
    {
     "data": {
      "text/html": [
       "\n",
       "            <style>\n",
       "                .geemap-dark {\n",
       "                    --jp-widgets-color: white;\n",
       "                    --jp-widgets-label-color: white;\n",
       "                    --jp-ui-font-color1: white;\n",
       "                    --jp-layout-color2: #454545;\n",
       "                    background-color: #383838;\n",
       "                }\n",
       "                    \n",
       "                .geemap-dark .jupyter-button {\n",
       "                    --jp-layout-color3: #383838;\n",
       "                }\n",
       "                \n",
       "                .geemap-colab {\n",
       "                    background-color: var(--colab-primary-surface-color, white);\n",
       "                }\n",
       "                    \n",
       "                .geemap-colab .jupyter-button {\n",
       "                    --jp-layout-color3: var(--colab-primary-surface-color, white);\n",
       "                }\n",
       "            </style>\n",
       "            "
      ],
      "text/plain": [
       "<IPython.core.display.HTML object>"
      ]
     },
     "metadata": {},
     "output_type": "display_data"
    }
   ],
   "source": [
    "proj = s2coll_2a_ext.median().projection().getInfo()\n",
    "crs = proj['crs']\n",
    "Greenest_GCVI_DOY = Greenest_GCVI_DOY.resample('bilinear').reproject(**{'crs': crs, 'scale':10}).float()"
   ]
  },
  {
   "cell_type": "markdown",
   "id": "00fc0f0c-ffd4-4eef-9552-fa5acf4beb40",
   "metadata": {},
   "source": [
    "#### Exportacion del dia del pico de GCVI"
   ]
  },
  {
   "cell_type": "code",
   "execution_count": null,
   "id": "d9578fe3-105a-4417-a7fb-d022d919cbcf",
   "metadata": {
    "tags": []
   },
   "outputs": [],
   "source": [
    "geemap.ee_export_image_to_drive(Greenest_GCVI_DOY, \n",
    "                                description='Greenest_GCVI_DOY', \n",
    "                                folder='Harmonic_KS', \n",
    "                                maxPixels=  1e13,\n",
    "                                region=roi.geometry(), \n",
    "                                scale=10)"
   ]
  },
  {
   "cell_type": "code",
   "execution_count": null,
   "id": "09cf90fd-ee1c-421c-a061-65e3b982fd03",
   "metadata": {
    "tags": []
   },
   "outputs": [],
   "source": [
    "# Cycle through the bands to see our result\n",
    "\n",
    "# for band in hrmregr_fit_gcvi_ext.getInfo()['bands']:\n",
    "#      print(band['id'])"
   ]
  },
  {
   "cell_type": "code",
   "execution_count": 25,
   "id": "a46e5f8f-5a6d-4b28-a41a-a7b6232cfe34",
   "metadata": {
    "tags": []
   },
   "outputs": [
    {
     "data": {
      "text/html": [
       "\n",
       "            <style>\n",
       "                .geemap-dark {\n",
       "                    --jp-widgets-color: white;\n",
       "                    --jp-widgets-label-color: white;\n",
       "                    --jp-ui-font-color1: white;\n",
       "                    --jp-layout-color2: #454545;\n",
       "                    background-color: #383838;\n",
       "                }\n",
       "                    \n",
       "                .geemap-dark .jupyter-button {\n",
       "                    --jp-layout-color3: #383838;\n",
       "                }\n",
       "                \n",
       "                .geemap-colab {\n",
       "                    background-color: var(--colab-primary-surface-color, white);\n",
       "                }\n",
       "                    \n",
       "                .geemap-colab .jupyter-button {\n",
       "                    --jp-layout-color3: var(--colab-primary-surface-color, white);\n",
       "                }\n",
       "            </style>\n",
       "            "
      ],
      "text/plain": [
       "<IPython.core.display.HTML object>"
      ]
     },
     "metadata": {},
     "output_type": "display_data"
    }
   ],
   "source": [
    "hrmregr_coefs_gcvi = (hrmregr_coefs_gcvi_ext.float().\n",
    "                      clip(roi).\n",
    "                      updateMask(remasked.eq(0).\n",
    "                                 Or(remasked.eq(1))))"
   ]
  },
  {
   "cell_type": "code",
   "execution_count": 26,
   "id": "9263e1e7-3416-49f7-9932-01fe08a4ca09",
   "metadata": {
    "tags": []
   },
   "outputs": [
    {
     "data": {
      "text/html": [
       "\n",
       "            <style>\n",
       "                .geemap-dark {\n",
       "                    --jp-widgets-color: white;\n",
       "                    --jp-widgets-label-color: white;\n",
       "                    --jp-ui-font-color1: white;\n",
       "                    --jp-layout-color2: #454545;\n",
       "                    background-color: #383838;\n",
       "                }\n",
       "                    \n",
       "                .geemap-dark .jupyter-button {\n",
       "                    --jp-layout-color3: #383838;\n",
       "                }\n",
       "                \n",
       "                .geemap-colab {\n",
       "                    background-color: var(--colab-primary-surface-color, white);\n",
       "                }\n",
       "                    \n",
       "                .geemap-colab .jupyter-button {\n",
       "                    --jp-layout-color3: var(--colab-primary-surface-color, white);\n",
       "                }\n",
       "            </style>\n",
       "            "
      ],
      "text/plain": [
       "<IPython.core.display.HTML object>"
      ]
     },
     "metadata": {},
     "output_type": "display_data"
    }
   ],
   "source": [
    "GCVI_sin2 = hrmregr_coefs_gcvi.select('GCVI_sin2')"
   ]
  },
  {
   "cell_type": "code",
   "execution_count": 27,
   "id": "e1a15e97-b914-4f5c-939d-e2b18613a8df",
   "metadata": {
    "tags": []
   },
   "outputs": [
    {
     "data": {
      "text/html": [
       "\n",
       "            <style>\n",
       "                .geemap-dark {\n",
       "                    --jp-widgets-color: white;\n",
       "                    --jp-widgets-label-color: white;\n",
       "                    --jp-ui-font-color1: white;\n",
       "                    --jp-layout-color2: #454545;\n",
       "                    background-color: #383838;\n",
       "                }\n",
       "                    \n",
       "                .geemap-dark .jupyter-button {\n",
       "                    --jp-layout-color3: #383838;\n",
       "                }\n",
       "                \n",
       "                .geemap-colab {\n",
       "                    background-color: var(--colab-primary-surface-color, white);\n",
       "                }\n",
       "                    \n",
       "                .geemap-colab .jupyter-button {\n",
       "                    --jp-layout-color3: var(--colab-primary-surface-color, white);\n",
       "                }\n",
       "            </style>\n",
       "            "
      ],
      "text/plain": [
       "<IPython.core.display.HTML object>"
      ]
     },
     "metadata": {},
     "output_type": "display_data"
    },
    {
     "data": {
      "text/plain": [
       "{'type': 'Projection',\n",
       " 'crs': 'EPSG:32614',\n",
       " 'transform': [10, 0, 699960, 0, -10, 4100040]}"
      ]
     },
     "execution_count": 27,
     "metadata": {},
     "output_type": "execute_result"
    }
   ],
   "source": [
    "hrmregr_coefs_gcvi.projection().getInfo()"
   ]
  },
  {
   "cell_type": "code",
   "execution_count": 28,
   "id": "ebded557-f999-4638-8195-c853da5b571a",
   "metadata": {
    "tags": []
   },
   "outputs": [
    {
     "data": {
      "text/html": [
       "\n",
       "            <style>\n",
       "                .geemap-dark {\n",
       "                    --jp-widgets-color: white;\n",
       "                    --jp-widgets-label-color: white;\n",
       "                    --jp-ui-font-color1: white;\n",
       "                    --jp-layout-color2: #454545;\n",
       "                    background-color: #383838;\n",
       "                }\n",
       "                    \n",
       "                .geemap-dark .jupyter-button {\n",
       "                    --jp-layout-color3: #383838;\n",
       "                }\n",
       "                \n",
       "                .geemap-colab {\n",
       "                    background-color: var(--colab-primary-surface-color, white);\n",
       "                }\n",
       "                    \n",
       "                .geemap-colab .jupyter-button {\n",
       "                    --jp-layout-color3: var(--colab-primary-surface-color, white);\n",
       "                }\n",
       "            </style>\n",
       "            "
      ],
      "text/plain": [
       "<IPython.core.display.HTML object>"
      ]
     },
     "metadata": {},
     "output_type": "display_data"
    }
   ],
   "source": [
    "GCVI_sin2 = hrmregr_coefs_gcvi.select('GCVI_sin2').float().clip(roi).updateMask(remasked.eq(0).Or(remasked.eq(1)))\n",
    "GCVI_cos2 = hrmregr_coefs_gcvi.select('GCVI_cos2').float().clip(roi).updateMask(remasked.eq(0).Or(remasked.eq(1)))\n",
    "GCVI_sin1 = hrmregr_coefs_gcvi.select(\"GCVI_sin1\").float().clip(roi).updateMask(remasked.eq(0).Or(remasked.eq(1)))\n",
    "GCVI_cos1 = hrmregr_coefs_gcvi.select(\"GCVI_cos1\").float().clip(roi).updateMask(remasked.eq(0).Or(remasked.eq(1)))\n",
    "GCVI_t = hrmregr_coefs_gcvi.select(\"GCVI_t\").float().clip(roi).updateMask(remasked.eq(0).Or(remasked.eq(1)))\n",
    "GCVI_constant = hrmregr_coefs_gcvi.select(\"GCVI_constant\").float().clip(roi).updateMask(remasked.eq(0).Or(remasked.eq(1)))\n",
    "GCVI_rmse = hrmregr_coefs_gcvi.select(\"GCVI_rmse\").float().clip(roi).updateMask(remasked.eq(0).Or(remasked.eq(1)))\n",
    "GCVI_r2 = hrmregr_coefs_gcvi.select(\"GCVI_r2\").float().clip(roi).updateMask(remasked.eq(0).Or(remasked.eq(1)))"
   ]
  },
  {
   "cell_type": "code",
   "execution_count": 29,
   "id": "f83b9757-7104-4efe-9129-c41ea4659e2e",
   "metadata": {
    "tags": []
   },
   "outputs": [
    {
     "data": {
      "text/html": [
       "\n",
       "            <style>\n",
       "                .geemap-dark {\n",
       "                    --jp-widgets-color: white;\n",
       "                    --jp-widgets-label-color: white;\n",
       "                    --jp-ui-font-color1: white;\n",
       "                    --jp-layout-color2: #454545;\n",
       "                    background-color: #383838;\n",
       "                }\n",
       "                    \n",
       "                .geemap-dark .jupyter-button {\n",
       "                    --jp-layout-color3: #383838;\n",
       "                }\n",
       "                \n",
       "                .geemap-colab {\n",
       "                    background-color: var(--colab-primary-surface-color, white);\n",
       "                }\n",
       "                    \n",
       "                .geemap-colab .jupyter-button {\n",
       "                    --jp-layout-color3: var(--colab-primary-surface-color, white);\n",
       "                }\n",
       "            </style>\n",
       "            "
      ],
      "text/plain": [
       "<IPython.core.display.HTML object>"
      ]
     },
     "metadata": {},
     "output_type": "display_data"
    },
    {
     "data": {
      "application/vnd.jupyter.widget-view+json": {
       "model_id": "25ddaf8cadb44503a37d127d4ccfec00",
       "version_major": 2,
       "version_minor": 0
      },
      "text/plain": [
       "Map(center=[0, 0], controls=(WidgetControl(options=['position', 'transparent_bg'], widget=SearchDataGUI(childr…"
      ]
     },
     "execution_count": 29,
     "metadata": {},
     "output_type": "execute_result"
    }
   ],
   "source": [
    "Map = geemap.Map()\n",
    "palette = [\n",
    "    '#d73027',\n",
    "    '#f46d43',\n",
    "    '#fdae61',\n",
    "    '#fee08b',\n",
    "    '#d9ef8b',\n",
    "    '#a6d96a',\n",
    "    '#66bd63',\n",
    "    '#1a9850',\n",
    "]\n",
    "Map.addLayer(GCVI_r2, {'palette': palette}, 'GCVI_sin2')\n",
    "Map"
   ]
  },
  {
   "cell_type": "code",
   "execution_count": null,
   "id": "ee83f481-1207-485e-9f05-f66a2b5a1059",
   "metadata": {
    "tags": []
   },
   "outputs": [],
   "source": [
    "geemap.ee_export_image_to_drive(GCVI_sin2, \n",
    "                                description='GCVI_sin2', \n",
    "                                folder='Harmonic_KS', \n",
    "                                maxPixels=  1e13,\n",
    "                                region=roi.geometry(), \n",
    "                                scale=10)"
   ]
  },
  {
   "cell_type": "code",
   "execution_count": null,
   "id": "831cdcfd-a866-48dc-9127-56691ab5c44f",
   "metadata": {
    "tags": []
   },
   "outputs": [],
   "source": [
    "geemap.ee_export_image_to_drive(GCVI_rmse, \n",
    "                                description='GCVI_rmse', \n",
    "                                folder='Harmonic_KS', \n",
    "                                maxPixels=  1e13,\n",
    "                                region=roi.geometry(), \n",
    "                                scale=10)"
   ]
  },
  {
   "cell_type": "code",
   "execution_count": null,
   "id": "818d0e9f-b0c8-4344-9d6e-0b6697a1f45a",
   "metadata": {
    "tags": []
   },
   "outputs": [],
   "source": [
    "geemap.ee_export_image_to_drive(GCVI_r2, \n",
    "                                description='GCVI_r2', \n",
    "                                folder='Harmonic_KS', \n",
    "                                maxPixels=  1e13,\n",
    "                                region=roi.geometry(), \n",
    "                                scale=10)"
   ]
  },
  {
   "cell_type": "code",
   "execution_count": null,
   "id": "6e1d1fdb-51be-48f9-8ed7-6efbf12503aa",
   "metadata": {
    "tags": []
   },
   "outputs": [],
   "source": [
    "coef_stacked = ee.Image.cat([GCVI_constant, GCVI_t,GCVI_cos1,GCVI_sin1, GCVI_cos2, GCVI_sin2]) "
   ]
  },
  {
   "cell_type": "code",
   "execution_count": null,
   "id": "6789ab9c-3514-4226-88be-541473e1044d",
   "metadata": {
    "tags": []
   },
   "outputs": [],
   "source": [
    "\n",
    "geemap.ee_export_image_to_drive(hrmregr_coefs_gcvi, \n",
    "                                description='Coeff_Harmonic_2', \n",
    "                                folder='Harmonic_KS', \n",
    "                                maxPixels=  1e13,\n",
    "                                region=roi.geometry(), \n",
    "                                scale=30)"
   ]
  },
  {
   "cell_type": "code",
   "execution_count": null,
   "id": "60606bd5-6bd8-403e-9f6e-88e1cd0416d2",
   "metadata": {
    "tags": []
   },
   "outputs": [],
   "source": [
    "geemap.ee_export_image_to_drive(coef_stacked, \n",
    "                                description='Coeff_Harmonic', \n",
    "                                folder='Harmonic_KS', \n",
    "                                maxPixels=  1e13,\n",
    "                                region=roi.geometry(), \n",
    "                                scale=30)"
   ]
  },
  {
   "cell_type": "markdown",
   "id": "020d6097-92e1-4cdb-b34b-845002acf976",
   "metadata": {},
   "source": [
    "This looks exactly correct - we have two sine terms, two cosine terms, a constant, a time term (t), and the variance, mean, rmse, and r2 for the model. The sine, cosine, constant, and time terms correspond to the $\\beta$ coefficients in the regression above. In Appendix Table A2 of Azzari et al.'s paper, we see these are the terms we're interested in obtaining for each of our bands or indices.   \n",
    "  \n",
    "##### OPTIONAL: Plot Smoothed Index Time Series\n",
    "\n",
    "As an **optional step**, let's now try to recreate our time series plots above using the smoothed values for our indices. We can once again use GCVI and the extended time range for a more complete chart. We'll first need to obtain the coefficients using `harmonics.run_std_regressions()`, then we'll use these coefficients to fit our GCVI data to this regression curve, smoothing the output values. To fit the GCVI to our coefficients, we'll use `harmonics.fit_harmonics()`. We'll provide the coefficients, the `gcvi_ext` ImageCollection, an omega value (we'll use the default of 1), the number of harmonic pairs, the band of interest, and our same reference date of the start of the growing season. "
   ]
  },
  {
   "cell_type": "code",
   "execution_count": null,
   "id": "539a0ba5-fed7-4ef5-a6df-71dc06465ff2",
   "metadata": {
    "tags": []
   },
   "outputs": [],
   "source": [
    "# Use Azzari et al's function to mask clouds\n",
    "def maskClouds_sr(img, bandnames):\n",
    "    scl = img.select(['SCL'])\n",
    "    clear = scl.updateMask(scl.eq(4) or (scl.eq(5)))\n",
    "    img = img.updateMask(clear)\n",
    "    return img.select(bandnames)"
   ]
  },
  {
   "cell_type": "code",
   "execution_count": null,
   "id": "0cef125a-b356-4400-855b-73d27ace59a7",
   "metadata": {
    "tags": []
   },
   "outputs": [],
   "source": [
    "# obtain extended timeframe for S2 SA imagery, if desired\n",
    "s2coll_2a_ext = sentinel2_2a.Sentinel2SR(roi.geometry(), start_date = ee.Date('2018-11-20'), end_date = ee.Date('2019-09-01'), addVIs=True, addCloudMasks=False).get_img_coll()\n",
    "# Define the bandames in the S2-2A data which we want to keep\n",
    "bandnames = ['AEROS','BLUE','GREEN','RED','RDED1','RDED2','RDED3','NIR','RDED4','VAPOR','SWIR1','SWIR2','NBR1','NDTI','GCVI','NDVI','SNDVI']\n",
    "# Mask clouds\n",
    "s2coll_2a_ext = s2coll_2a_ext.map(lambda img: maskClouds_sr(img, bandnames))"
   ]
  },
  {
   "cell_type": "code",
   "execution_count": null,
   "id": "9c0ea9d6-4fe0-4b2d-94a1-ef1efbbbde3f",
   "metadata": {
    "tags": []
   },
   "outputs": [],
   "source": [
    "# Filter for only our index of interest in this example, GCVI\n",
    "gcvi_ext = s2coll_2a_ext.select('GCVI')\n",
    "# Specify band in the ImageCollection we want to use in regression\n",
    "dep_bands = ['GCVI']\n",
    "\n",
    "# Run the regression to produce an image with our terms as bands; using first day of growing season as refdate\n",
    "hrmregr_coefs_gcvi_ext = harmonics.run_std_regressions(gcvi_ext,dep_bands,refdate='2018-10-20')"
   ]
  },
  {
   "cell_type": "code",
   "execution_count": null,
   "id": "eccb9ec0-ff32-42bd-8bab-c73d21e87222",
   "metadata": {
    "tags": []
   },
   "outputs": [],
   "source": [
    "hrmregr_coefs_gcvi_ext.bandNames()"
   ]
  },
  {
   "cell_type": "code",
   "execution_count": null,
   "id": "639c7734-2b97-4b16-8671-71f140588340",
   "metadata": {
    "tags": []
   },
   "outputs": [],
   "source": [
    "# create new, smoothed GCVI values by fitting the original to the harmonic regression with coefficients created above\n",
    "hrmregr_fit_gcvi_ext = harmonics.fit_harmonics(hrmregr_coefs_gcvi_ext, gcvi_ext, omega=1,nharmonics=2,bands=dep_bands,refdate='2018-10-20')"
   ]
  },
  {
   "cell_type": "code",
   "execution_count": null,
   "id": "76d7611b-dba1-4d7e-9b60-25d8c2a3cca8",
   "metadata": {
    "tags": []
   },
   "outputs": [],
   "source": [
    "hrmregr_fit_gcvi_ext.projection().getInfo()"
   ]
  },
  {
   "cell_type": "code",
   "execution_count": null,
   "id": "ecca7eb7-bd1f-4046-bcbb-c9a81a34abcd",
   "metadata": {
    "tags": []
   },
   "outputs": [],
   "source": [
    "for band in hrmregr_fit_gcvi_ext.getInfo()['bands']:\n",
    "    print(band['id'])"
   ]
  },
  {
   "cell_type": "code",
   "execution_count": null,
   "id": "da16762d-060c-48e0-877e-1c45a8403a2b",
   "metadata": {
    "tags": []
   },
   "outputs": [],
   "source": [
    "geemap.ee_export_image_collection_to_asset(hrmregr_fit_gcvi_ext, scale=30)\n"
   ]
  },
  {
   "cell_type": "code",
   "execution_count": null,
   "id": "9b64b22c-daa9-4e7b-b24a-2206d643f3d6",
   "metadata": {},
   "outputs": [],
   "source": [
    "# generate lists of known images where our location is not masked\n",
    "def create_lists_for_extract(df, suffix_to_remove, suffix_to_add):\n",
    "    \"\"\"\n",
    "    Create list of band ids and timestamps from previously-generated\n",
    "        DataFrame from extract_pixel_vals_dates(). \n",
    "    Inputs:\n",
    "        df (DataFrame): DataFrame returned from extract_pixel_vals_dates()\n",
    "        suffix_to_remove (str): original suffix added to Image system:index, \n",
    "            in the format of '_' + bandname\n",
    "        suffix_to_add (str): new suffix to add to Image system:index in format\n",
    "            '_' + new bandname\n",
    "    Returns (list, list): list of timestamps, list of band ids as tuple\n",
    "    \"\"\"\n",
    "    time_list = df['datetime'].to_list()\n",
    "    band_list = df['band_id'].to_list()\n",
    "    band_list = [band.replace(suffix_to_remove, '') for band in band_list]\n",
    "    band_list = [band + suffix_to_add for band in band_list]\n",
    "\n",
    "    return time_list, band_list"
   ]
  },
  {
   "cell_type": "code",
   "execution_count": null,
   "id": "5e198ee7-1a16-4146-aac7-0c29ab15b4a6",
   "metadata": {},
   "outputs": [],
   "source": [
    "time_list, band_list = create_lists_for_extract(gcvi_time_pixel_vals, '_GCVI','_GCVI_HARMFIT')\n",
    "band_list[0:5]"
   ]
  },
  {
   "cell_type": "code",
   "execution_count": null,
   "id": "0196c3a9-a356-4cec-8b3b-6cfa91ddd2c5",
   "metadata": {},
   "outputs": [],
   "source": [
    "# use our function to extract values for each pixel\n",
    "# NOTE: this will be VERY slow, much slower than the for the original values even using pre-filtered lists - choose a smaller time frame to minimize processing\n",
    "# using Google Earth Engine to perform these calculations and extract as a .csv is also an option for faster processing\n",
    "gcvi_hrmregr_time_pixel_vals = extract_pixel_vals_dates(hrmregr_fit_gcvi_ext, 'GCVI_HARMFIT', ee_point_g,band_list=band_list, time_list=time_list)"
   ]
  },
  {
   "cell_type": "code",
   "execution_count": null,
   "id": "4f26dbe5-9717-44cc-9eae-68c8fbedbc9f",
   "metadata": {},
   "outputs": [],
   "source": []
  },
  {
   "cell_type": "code",
   "execution_count": null,
   "id": "901c61c3-3240-44c7-a39f-5afa0dd30f79",
   "metadata": {},
   "outputs": [],
   "source": [
    "geemap.ee_export_image_to_drive(harm_r2, \n",
    "                                description='harm_r2', \n",
    "                                folder='Malawi_Harmonic', \n",
    "                                maxPixels=  1e11,\n",
    "                                region=malawi_geom.geometry(), \n",
    "                                scale=10)"
   ]
  },
  {
   "cell_type": "code",
   "execution_count": null,
   "id": "44379499-da7b-44c4-aa2d-4fbe631e8085",
   "metadata": {},
   "outputs": [],
   "source": []
  },
  {
   "cell_type": "code",
   "execution_count": null,
   "id": "060566c3-ec11-4c73-9055-15c2e03ba897",
   "metadata": {},
   "outputs": [],
   "source": []
  }
 ],
 "metadata": {
  "kernelspec": {
   "display_name": "Python 3 (ipykernel)",
   "language": "python",
   "name": "python3"
  },
  "language_info": {
   "codemirror_mode": {
    "name": "ipython",
    "version": 3
   },
   "file_extension": ".py",
   "mimetype": "text/x-python",
   "name": "python",
   "nbconvert_exporter": "python",
   "pygments_lexer": "ipython3",
   "version": "3.11.5"
  }
 },
 "nbformat": 4,
 "nbformat_minor": 5
}
