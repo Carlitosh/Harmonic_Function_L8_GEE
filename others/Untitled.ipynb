{
 "cells": [
  {
   "cell_type": "code",
   "execution_count": 1,
   "id": "d6c8d5ff-6973-4b01-a4aa-bfa732421243",
   "metadata": {
    "tags": []
   },
   "outputs": [],
   "source": [
    "import ee\n",
    "import geemap\n",
    "\n",
    "# Inicializar la biblioteca Earth Engine\n",
    "ee.Initialize()"
   ]
  },
  {
   "cell_type": "code",
   "execution_count": 2,
   "id": "9284b0b4-a0a0-4056-b2b1-d4f6eb858342",
   "metadata": {
    "tags": []
   },
   "outputs": [
    {
     "data": {
      "text/html": [
       "\n",
       "            <style>\n",
       "                .geemap-dark {\n",
       "                    --jp-widgets-color: white;\n",
       "                    --jp-widgets-label-color: white;\n",
       "                    --jp-ui-font-color1: white;\n",
       "                    --jp-layout-color2: #454545;\n",
       "                    background-color: #383838;\n",
       "                }\n",
       "                    \n",
       "                .geemap-dark .jupyter-button {\n",
       "                    --jp-layout-color3: #383838;\n",
       "                }\n",
       "                \n",
       "                .geemap-colab {\n",
       "                    background-color: var(--colab-primary-surface-color, white);\n",
       "                }\n",
       "                    \n",
       "                .geemap-colab .jupyter-button {\n",
       "                    --jp-layout-color3: var(--colab-primary-surface-color, white);\n",
       "                }\n",
       "            </style>\n",
       "            "
      ],
      "text/plain": [
       "<IPython.core.display.HTML object>"
      ]
     },
     "metadata": {},
     "output_type": "display_data"
    }
   ],
   "source": [
    "# Definir la región de interés (ROI)\n",
    "roi = ee.Geometry.Polygon(\n",
    "    [[[-122.45, 37.74],\n",
    "      [-122.45, 37.8],\n",
    "      [-122.4, 37.8],\n",
    "      [-122.4, 37.74]]])\n",
    "\n"
   ]
  },
  {
   "cell_type": "code",
   "execution_count": 3,
   "id": "94548362-409b-4151-971f-5e2ad727a698",
   "metadata": {
    "tags": []
   },
   "outputs": [
    {
     "data": {
      "text/html": [
       "\n",
       "            <style>\n",
       "                .geemap-dark {\n",
       "                    --jp-widgets-color: white;\n",
       "                    --jp-widgets-label-color: white;\n",
       "                    --jp-ui-font-color1: white;\n",
       "                    --jp-layout-color2: #454545;\n",
       "                    background-color: #383838;\n",
       "                }\n",
       "                    \n",
       "                .geemap-dark .jupyter-button {\n",
       "                    --jp-layout-color3: #383838;\n",
       "                }\n",
       "                \n",
       "                .geemap-colab {\n",
       "                    background-color: var(--colab-primary-surface-color, white);\n",
       "                }\n",
       "                    \n",
       "                .geemap-colab .jupyter-button {\n",
       "                    --jp-layout-color3: var(--colab-primary-surface-color, white);\n",
       "                }\n",
       "            </style>\n",
       "            "
      ],
      "text/plain": [
       "<IPython.core.display.HTML object>"
      ]
     },
     "metadata": {},
     "output_type": "display_data"
    }
   ],
   "source": [
    "# Función para calcular el GCVI\n",
    "def calculate_gcvi(image):\n",
    "    gcvi = image.expression(\n",
    "        'NIR / GREEN - 1', {\n",
    "            'NIR': image.select('SR_B5'),  # NIR band\n",
    "            'GREEN': image.select('SR_B3')  # Green band\n",
    "        }).rename('GCVI')\n",
    "    return image.addBands(gcvi)\n",
    "\n"
   ]
  },
  {
   "cell_type": "code",
   "execution_count": 4,
   "id": "abf91a54-b343-49ed-a835-03d8c7d32e76",
   "metadata": {
    "tags": []
   },
   "outputs": [
    {
     "data": {
      "text/html": [
       "\n",
       "            <style>\n",
       "                .geemap-dark {\n",
       "                    --jp-widgets-color: white;\n",
       "                    --jp-widgets-label-color: white;\n",
       "                    --jp-ui-font-color1: white;\n",
       "                    --jp-layout-color2: #454545;\n",
       "                    background-color: #383838;\n",
       "                }\n",
       "                    \n",
       "                .geemap-dark .jupyter-button {\n",
       "                    --jp-layout-color3: #383838;\n",
       "                }\n",
       "                \n",
       "                .geemap-colab {\n",
       "                    background-color: var(--colab-primary-surface-color, white);\n",
       "                }\n",
       "                    \n",
       "                .geemap-colab .jupyter-button {\n",
       "                    --jp-layout-color3: var(--colab-primary-surface-color, white);\n",
       "                }\n",
       "            </style>\n",
       "            "
      ],
      "text/plain": [
       "<IPython.core.display.HTML object>"
      ]
     },
     "metadata": {},
     "output_type": "display_data"
    }
   ],
   "source": [
    "# Filtrar la colección de imágenes\n",
    "collection = (ee.ImageCollection('LANDSAT/LC08/C02/T1_L2')\n",
    "              .filterBounds(roi)\n",
    "              .filterDate('2017-01-01', '2017-12-31')\n",
    "              .map(calculate_gcvi)\n",
    "              .select('GCVI')\n",
    "              .sort('system:time_start'))"
   ]
  },
  {
   "cell_type": "code",
   "execution_count": 5,
   "id": "938bf655-379b-4b10-89f9-d53f6f9bbe92",
   "metadata": {
    "tags": []
   },
   "outputs": [
    {
     "data": {
      "text/html": [
       "\n",
       "            <style>\n",
       "                .geemap-dark {\n",
       "                    --jp-widgets-color: white;\n",
       "                    --jp-widgets-label-color: white;\n",
       "                    --jp-ui-font-color1: white;\n",
       "                    --jp-layout-color2: #454545;\n",
       "                    background-color: #383838;\n",
       "                }\n",
       "                    \n",
       "                .geemap-dark .jupyter-button {\n",
       "                    --jp-layout-color3: #383838;\n",
       "                }\n",
       "                \n",
       "                .geemap-colab {\n",
       "                    background-color: var(--colab-primary-surface-color, white);\n",
       "                }\n",
       "                    \n",
       "                .geemap-colab .jupyter-button {\n",
       "                    --jp-layout-color3: var(--colab-primary-surface-color, white);\n",
       "                }\n",
       "            </style>\n",
       "            "
      ],
      "text/plain": [
       "<IPython.core.display.HTML object>"
      ]
     },
     "metadata": {},
     "output_type": "display_data"
    }
   ],
   "source": [
    "# Crear el composite harmonico\n",
    "harmonicLandsat = collection.map(lambda img: img.set('date', img.date().format('YYYY-MM-dd')))\n"
   ]
  },
  {
   "cell_type": "code",
   "execution_count": 6,
   "id": "27973e54-dce8-4c5e-b34e-54b2fd075b4e",
   "metadata": {
    "tags": []
   },
   "outputs": [
    {
     "data": {
      "text/html": [
       "\n",
       "            <style>\n",
       "                .geemap-dark {\n",
       "                    --jp-widgets-color: white;\n",
       "                    --jp-widgets-label-color: white;\n",
       "                    --jp-ui-font-color1: white;\n",
       "                    --jp-layout-color2: #454545;\n",
       "                    background-color: #383838;\n",
       "                }\n",
       "                    \n",
       "                .geemap-dark .jupyter-button {\n",
       "                    --jp-layout-color3: #383838;\n",
       "                }\n",
       "                \n",
       "                .geemap-colab {\n",
       "                    background-color: var(--colab-primary-surface-color, white);\n",
       "                }\n",
       "                    \n",
       "                .geemap-colab .jupyter-button {\n",
       "                    --jp-layout-color3: var(--colab-primary-surface-color, white);\n",
       "                }\n",
       "            </style>\n",
       "            "
      ],
      "text/plain": [
       "<IPython.core.display.HTML object>"
      ]
     },
     "metadata": {},
     "output_type": "display_data"
    }
   ],
   "source": [
    "# Definir las frecuencias y términos de Fourier\n",
    "harmonics = 3\n",
    "harmonics_frequencies = ee.List([1, 2, 3, 4])"
   ]
  },
  {
   "cell_type": "code",
   "execution_count": 10,
   "id": "28b25144-8eea-4beb-b64f-37431baf13c2",
   "metadata": {
    "tags": []
   },
   "outputs": [
    {
     "data": {
      "text/html": [
       "\n",
       "            <style>\n",
       "                .geemap-dark {\n",
       "                    --jp-widgets-color: white;\n",
       "                    --jp-widgets-label-color: white;\n",
       "                    --jp-ui-font-color1: white;\n",
       "                    --jp-layout-color2: #454545;\n",
       "                    background-color: #383838;\n",
       "                }\n",
       "                    \n",
       "                .geemap-dark .jupyter-button {\n",
       "                    --jp-layout-color3: #383838;\n",
       "                }\n",
       "                \n",
       "                .geemap-colab {\n",
       "                    background-color: var(--colab-primary-surface-color, white);\n",
       "                }\n",
       "                    \n",
       "                .geemap-colab .jupyter-button {\n",
       "                    --jp-layout-color3: var(--colab-primary-surface-color, white);\n",
       "                }\n",
       "            </style>\n",
       "            "
      ],
      "text/plain": [
       "<IPython.core.display.HTML object>"
      ]
     },
     "metadata": {},
     "output_type": "display_data"
    }
   ],
   "source": [
    "def harmonic_terms(image):\n",
    "    date = ee.Date(image.get('system:time_start'))\n",
    "    years = ee.Date('1970-01-01').difference(date, 'year')\n",
    "    timeRadians = ee.Image.constant(years.multiply(2 * 3.141592))\n",
    "    \n",
    "    # Calcular términos armónicos\n",
    "    harmonics_list = harmonics_frequencies.map(lambda f:\n",
    "                                               timeRadians.multiply(ee.Number(f)).cos().rename('cos_' + ee.Number(f).format())\n",
    "                                               .addBands(timeRadians.multiply(ee.Number(f)).sin().rename('sin_' + ee.Number(f).format())))\n",
    "    \n",
    "    return image.addBands(ee.Image.cat(harmonics_list))"
   ]
  },
  {
   "cell_type": "code",
   "execution_count": 11,
   "id": "6f44f4a2-20bc-4d2c-a0a1-cd9f396d844f",
   "metadata": {
    "tags": []
   },
   "outputs": [
    {
     "data": {
      "text/html": [
       "\n",
       "            <style>\n",
       "                .geemap-dark {\n",
       "                    --jp-widgets-color: white;\n",
       "                    --jp-widgets-label-color: white;\n",
       "                    --jp-ui-font-color1: white;\n",
       "                    --jp-layout-color2: #454545;\n",
       "                    background-color: #383838;\n",
       "                }\n",
       "                    \n",
       "                .geemap-dark .jupyter-button {\n",
       "                    --jp-layout-color3: #383838;\n",
       "                }\n",
       "                \n",
       "                .geemap-colab {\n",
       "                    background-color: var(--colab-primary-surface-color, white);\n",
       "                }\n",
       "                    \n",
       "                .geemap-colab .jupyter-button {\n",
       "                    --jp-layout-color3: var(--colab-primary-surface-color, white);\n",
       "                }\n",
       "            </style>\n",
       "            "
      ],
      "text/plain": [
       "<IPython.core.display.HTML object>"
      ]
     },
     "metadata": {},
     "output_type": "display_data"
    },
    {
     "ename": "TypeError",
     "evalue": "can only concatenate str (not \"String\") to str",
     "output_type": "error",
     "traceback": [
      "\u001b[1;31m---------------------------------------------------------------------------\u001b[0m",
      "\u001b[1;31mTypeError\u001b[0m                                 Traceback (most recent call last)",
      "Cell \u001b[1;32mIn[11], line 2\u001b[0m\n\u001b[0;32m      1\u001b[0m \u001b[38;5;66;03m# Mapear la función a la colección de imágenes\u001b[39;00m\n\u001b[1;32m----> 2\u001b[0m harmonic_collection \u001b[38;5;241m=\u001b[39m harmonicLandsat\u001b[38;5;241m.\u001b[39mmap(harmonic_terms)\n",
      "File \u001b[1;32m~\\anaconda3\\Lib\\site-packages\\ee\\collection.py:241\u001b[0m, in \u001b[0;36mCollection.map\u001b[1;34m(self, algorithm, opt_dropNulls)\u001b[0m\n\u001b[0;32m    239\u001b[0m element_type \u001b[38;5;241m=\u001b[39m \u001b[38;5;28mself\u001b[39m\u001b[38;5;241m.\u001b[39melementType()\n\u001b[0;32m    240\u001b[0m with_cast \u001b[38;5;241m=\u001b[39m \u001b[38;5;28;01mlambda\u001b[39;00m e: algorithm(element_type(e, \u001b[38;5;28;01mNone\u001b[39;00m))\n\u001b[1;32m--> 241\u001b[0m \u001b[38;5;28;01mreturn\u001b[39;00m \u001b[38;5;28mself\u001b[39m\u001b[38;5;241m.\u001b[39m_cast(apifunction\u001b[38;5;241m.\u001b[39mApiFunction\u001b[38;5;241m.\u001b[39mcall_(\n\u001b[0;32m    242\u001b[0m     \u001b[38;5;124m'\u001b[39m\u001b[38;5;124mCollection.map\u001b[39m\u001b[38;5;124m'\u001b[39m, \u001b[38;5;28mself\u001b[39m, with_cast, opt_dropNulls))\n",
      "File \u001b[1;32m~\\anaconda3\\Lib\\site-packages\\ee\\apifunction.py:83\u001b[0m, in \u001b[0;36mApiFunction.call_\u001b[1;34m(cls, name, *args, **kwargs)\u001b[0m\n\u001b[0;32m     70\u001b[0m \u001b[38;5;129m@classmethod\u001b[39m\n\u001b[0;32m     71\u001b[0m \u001b[38;5;28;01mdef\u001b[39;00m \u001b[38;5;21mcall_\u001b[39m(\u001b[38;5;28mcls\u001b[39m, name: \u001b[38;5;28mstr\u001b[39m, \u001b[38;5;241m*\u001b[39margs: Any, \u001b[38;5;241m*\u001b[39m\u001b[38;5;241m*\u001b[39mkwargs: Any) \u001b[38;5;241m-\u001b[39m\u001b[38;5;241m>\u001b[39m Any:\n\u001b[0;32m     72\u001b[0m \u001b[38;5;250m  \u001b[39m\u001b[38;5;124;03m\"\"\"Call a named API function with positional and keyword arguments.\u001b[39;00m\n\u001b[0;32m     73\u001b[0m \n\u001b[0;32m     74\u001b[0m \u001b[38;5;124;03m  Args:\u001b[39;00m\n\u001b[1;32m   (...)\u001b[0m\n\u001b[0;32m     81\u001b[0m \u001b[38;5;124;03m    a recognized return type, the returned value will be cast to that type.\u001b[39;00m\n\u001b[0;32m     82\u001b[0m \u001b[38;5;124;03m  \"\"\"\u001b[39;00m\n\u001b[1;32m---> 83\u001b[0m   \u001b[38;5;28;01mreturn\u001b[39;00m \u001b[38;5;28mcls\u001b[39m\u001b[38;5;241m.\u001b[39mlookup(name)\u001b[38;5;241m.\u001b[39mcall(\u001b[38;5;241m*\u001b[39margs, \u001b[38;5;241m*\u001b[39m\u001b[38;5;241m*\u001b[39mkwargs)\n",
      "File \u001b[1;32m~\\anaconda3\\Lib\\site-packages\\ee\\function.py:62\u001b[0m, in \u001b[0;36mFunction.call\u001b[1;34m(self, *args, **kwargs)\u001b[0m\n\u001b[0;32m     50\u001b[0m \u001b[38;5;28;01mdef\u001b[39;00m \u001b[38;5;21mcall\u001b[39m(\u001b[38;5;28mself\u001b[39m, \u001b[38;5;241m*\u001b[39margs, \u001b[38;5;241m*\u001b[39m\u001b[38;5;241m*\u001b[39mkwargs):\n\u001b[0;32m     51\u001b[0m \u001b[38;5;250m  \u001b[39m\u001b[38;5;124;03m\"\"\"Calls the function with the given positional and keyword arguments.\u001b[39;00m\n\u001b[0;32m     52\u001b[0m \n\u001b[0;32m     53\u001b[0m \u001b[38;5;124;03m  Args:\u001b[39;00m\n\u001b[1;32m   (...)\u001b[0m\n\u001b[0;32m     60\u001b[0m \u001b[38;5;124;03m    to that type.\u001b[39;00m\n\u001b[0;32m     61\u001b[0m \u001b[38;5;124;03m  \"\"\"\u001b[39;00m\n\u001b[1;32m---> 62\u001b[0m   \u001b[38;5;28;01mreturn\u001b[39;00m \u001b[38;5;28mself\u001b[39m\u001b[38;5;241m.\u001b[39mapply(\u001b[38;5;28mself\u001b[39m\u001b[38;5;241m.\u001b[39mnameArgs(args, kwargs))\n",
      "File \u001b[1;32m~\\anaconda3\\Lib\\site-packages\\ee\\function.py:75\u001b[0m, in \u001b[0;36mFunction.apply\u001b[1;34m(self, named_args)\u001b[0m\n\u001b[0;32m     64\u001b[0m \u001b[38;5;28;01mdef\u001b[39;00m \u001b[38;5;21mapply\u001b[39m(\u001b[38;5;28mself\u001b[39m, named_args):\n\u001b[0;32m     65\u001b[0m \u001b[38;5;250m  \u001b[39m\u001b[38;5;124;03m\"\"\"Calls the function with a dictionary of named arguments.\u001b[39;00m\n\u001b[0;32m     66\u001b[0m \n\u001b[0;32m     67\u001b[0m \u001b[38;5;124;03m  Args:\u001b[39;00m\n\u001b[1;32m   (...)\u001b[0m\n\u001b[0;32m     73\u001b[0m \u001b[38;5;124;03m    to that type.\u001b[39;00m\n\u001b[0;32m     74\u001b[0m \u001b[38;5;124;03m  \"\"\"\u001b[39;00m\n\u001b[1;32m---> 75\u001b[0m   result \u001b[38;5;241m=\u001b[39m computedobject\u001b[38;5;241m.\u001b[39mComputedObject(\u001b[38;5;28mself\u001b[39m, \u001b[38;5;28mself\u001b[39m\u001b[38;5;241m.\u001b[39mpromoteArgs(named_args))\n\u001b[0;32m     76\u001b[0m   \u001b[38;5;28;01mreturn\u001b[39;00m Function\u001b[38;5;241m.\u001b[39m_promoter(result, \u001b[38;5;28mself\u001b[39m\u001b[38;5;241m.\u001b[39mgetReturnType())\n",
      "File \u001b[1;32m~\\anaconda3\\Lib\\site-packages\\ee\\function.py:103\u001b[0m, in \u001b[0;36mFunction.promoteArgs\u001b[1;34m(self, args)\u001b[0m\n\u001b[0;32m    101\u001b[0m name \u001b[38;5;241m=\u001b[39m arg_spec[\u001b[38;5;124m'\u001b[39m\u001b[38;5;124mname\u001b[39m\u001b[38;5;124m'\u001b[39m]\n\u001b[0;32m    102\u001b[0m \u001b[38;5;28;01mif\u001b[39;00m name \u001b[38;5;129;01min\u001b[39;00m args:\n\u001b[1;32m--> 103\u001b[0m   promoted_args[name] \u001b[38;5;241m=\u001b[39m Function\u001b[38;5;241m.\u001b[39m_promoter(args[name], arg_spec[\u001b[38;5;124m'\u001b[39m\u001b[38;5;124mtype\u001b[39m\u001b[38;5;124m'\u001b[39m])\n\u001b[0;32m    104\u001b[0m \u001b[38;5;28;01melif\u001b[39;00m \u001b[38;5;129;01mnot\u001b[39;00m arg_spec\u001b[38;5;241m.\u001b[39mget(\u001b[38;5;124m'\u001b[39m\u001b[38;5;124moptional\u001b[39m\u001b[38;5;124m'\u001b[39m):\n\u001b[0;32m    105\u001b[0m   \u001b[38;5;28;01mraise\u001b[39;00m ee_exception\u001b[38;5;241m.\u001b[39mEEException(\n\u001b[0;32m    106\u001b[0m       \u001b[38;5;124m'\u001b[39m\u001b[38;5;124mRequired argument (\u001b[39m\u001b[38;5;132;01m%s\u001b[39;00m\u001b[38;5;124m) missing to function: \u001b[39m\u001b[38;5;132;01m%s\u001b[39;00m\u001b[38;5;124m'\u001b[39m\n\u001b[0;32m    107\u001b[0m       \u001b[38;5;241m%\u001b[39m (name, signature\u001b[38;5;241m.\u001b[39mget(\u001b[38;5;124m'\u001b[39m\u001b[38;5;124mname\u001b[39m\u001b[38;5;124m'\u001b[39m)))\n",
      "File \u001b[1;32m~\\anaconda3\\Lib\\site-packages\\ee\\__init__.py:268\u001b[0m, in \u001b[0;36m_Promote\u001b[1;34m(arg, a_class)\u001b[0m\n\u001b[0;32m    265\u001b[0m \u001b[38;5;28;01melif\u001b[39;00m \u001b[38;5;28mcallable\u001b[39m(arg):\n\u001b[0;32m    266\u001b[0m   \u001b[38;5;66;03m# A native function that needs to be wrapped.\u001b[39;00m\n\u001b[0;32m    267\u001b[0m   args_count \u001b[38;5;241m=\u001b[39m \u001b[38;5;28mlen\u001b[39m(inspect\u001b[38;5;241m.\u001b[39mgetfullargspec(arg)\u001b[38;5;241m.\u001b[39margs)\n\u001b[1;32m--> 268\u001b[0m   \u001b[38;5;28;01mreturn\u001b[39;00m CustomFunction\u001b[38;5;241m.\u001b[39mcreate(arg, \u001b[38;5;124m'\u001b[39m\u001b[38;5;124mObject\u001b[39m\u001b[38;5;124m'\u001b[39m, [\u001b[38;5;124m'\u001b[39m\u001b[38;5;124mObject\u001b[39m\u001b[38;5;124m'\u001b[39m] \u001b[38;5;241m*\u001b[39m args_count)\n\u001b[0;32m    269\u001b[0m \u001b[38;5;28;01melif\u001b[39;00m \u001b[38;5;28misinstance\u001b[39m(arg, Encodable):\n\u001b[0;32m    270\u001b[0m   \u001b[38;5;66;03m# An ee.Function or a computed function like the return value of\u001b[39;00m\n\u001b[0;32m    271\u001b[0m   \u001b[38;5;66;03m# Image.parseExpression().\u001b[39;00m\n\u001b[0;32m    272\u001b[0m   \u001b[38;5;28;01mreturn\u001b[39;00m arg\n",
      "File \u001b[1;32m~\\anaconda3\\Lib\\site-packages\\ee\\customfunction.py:127\u001b[0m, in \u001b[0;36mCustomFunction.create\u001b[1;34m(func, return_type, arg_types)\u001b[0m\n\u001b[0;32m    121\u001b[0m args \u001b[38;5;241m=\u001b[39m [{\u001b[38;5;124m'\u001b[39m\u001b[38;5;124mname\u001b[39m\u001b[38;5;124m'\u001b[39m: \u001b[38;5;28;01mNone\u001b[39;00m, \u001b[38;5;124m'\u001b[39m\u001b[38;5;124mtype\u001b[39m\u001b[38;5;124m'\u001b[39m: StringifyType(i)} \u001b[38;5;28;01mfor\u001b[39;00m i \u001b[38;5;129;01min\u001b[39;00m arg_types]\n\u001b[0;32m    122\u001b[0m signature \u001b[38;5;241m=\u001b[39m {\n\u001b[0;32m    123\u001b[0m     \u001b[38;5;124m'\u001b[39m\u001b[38;5;124mname\u001b[39m\u001b[38;5;124m'\u001b[39m: \u001b[38;5;124m'\u001b[39m\u001b[38;5;124m'\u001b[39m,\n\u001b[0;32m    124\u001b[0m     \u001b[38;5;124m'\u001b[39m\u001b[38;5;124mreturns\u001b[39m\u001b[38;5;124m'\u001b[39m: StringifyType(return_type),\n\u001b[0;32m    125\u001b[0m     \u001b[38;5;124m'\u001b[39m\u001b[38;5;124margs\u001b[39m\u001b[38;5;124m'\u001b[39m: args\n\u001b[0;32m    126\u001b[0m }\n\u001b[1;32m--> 127\u001b[0m \u001b[38;5;28;01mreturn\u001b[39;00m CustomFunction(signature, func)\n",
      "File \u001b[1;32m~\\anaconda3\\Lib\\site-packages\\ee\\customfunction.py:41\u001b[0m, in \u001b[0;36mCustomFunction.__init__\u001b[1;34m(self, signature, body)\u001b[0m\n\u001b[0;32m     27\u001b[0m \u001b[38;5;250m\u001b[39m\u001b[38;5;124;03m\"\"\"Creates a function defined by a given expression with unbound variables.\u001b[39;00m\n\u001b[0;32m     28\u001b[0m \n\u001b[0;32m     29\u001b[0m \u001b[38;5;124;03mThe expression is created by evaluating the given function\u001b[39;00m\n\u001b[1;32m   (...)\u001b[0m\n\u001b[0;32m     36\u001b[0m \u001b[38;5;124;03m  body: The Python function to evaluate.\u001b[39;00m\n\u001b[0;32m     37\u001b[0m \u001b[38;5;124;03m\"\"\"\u001b[39;00m\n\u001b[0;32m     38\u001b[0m variables \u001b[38;5;241m=\u001b[39m [CustomFunction\u001b[38;5;241m.\u001b[39mvariable(arg[\u001b[38;5;124m'\u001b[39m\u001b[38;5;124mtype\u001b[39m\u001b[38;5;124m'\u001b[39m], arg[\u001b[38;5;124m'\u001b[39m\u001b[38;5;124mname\u001b[39m\u001b[38;5;124m'\u001b[39m])\n\u001b[0;32m     39\u001b[0m              \u001b[38;5;28;01mfor\u001b[39;00m arg \u001b[38;5;129;01min\u001b[39;00m signature[\u001b[38;5;124m'\u001b[39m\u001b[38;5;124margs\u001b[39m\u001b[38;5;124m'\u001b[39m]]\n\u001b[1;32m---> 41\u001b[0m \u001b[38;5;28;01mif\u001b[39;00m body(\u001b[38;5;241m*\u001b[39mvariables) \u001b[38;5;129;01mis\u001b[39;00m \u001b[38;5;28;01mNone\u001b[39;00m:\n\u001b[0;32m     42\u001b[0m   \u001b[38;5;28;01mraise\u001b[39;00m ee_exception\u001b[38;5;241m.\u001b[39mEEException(\u001b[38;5;124m'\u001b[39m\u001b[38;5;124mUser-defined methods must return a value\u001b[39m\u001b[38;5;124m'\u001b[39m)\n\u001b[0;32m     44\u001b[0m \u001b[38;5;66;03m# The signature of the function.\u001b[39;00m\n",
      "File \u001b[1;32m~\\anaconda3\\Lib\\site-packages\\ee\\collection.py:240\u001b[0m, in \u001b[0;36mCollection.map.<locals>.<lambda>\u001b[1;34m(e)\u001b[0m\n\u001b[0;32m    222\u001b[0m \u001b[38;5;250m\u001b[39m\u001b[38;5;124;03m\"\"\"Maps an algorithm over a collection.\u001b[39;00m\n\u001b[0;32m    223\u001b[0m \n\u001b[0;32m    224\u001b[0m \u001b[38;5;124;03mArgs:\u001b[39;00m\n\u001b[1;32m   (...)\u001b[0m\n\u001b[0;32m    237\u001b[0m \u001b[38;5;124;03m  ee_exception.EEException: if algorithm is not a function.\u001b[39;00m\n\u001b[0;32m    238\u001b[0m \u001b[38;5;124;03m\"\"\"\u001b[39;00m\n\u001b[0;32m    239\u001b[0m element_type \u001b[38;5;241m=\u001b[39m \u001b[38;5;28mself\u001b[39m\u001b[38;5;241m.\u001b[39melementType()\n\u001b[1;32m--> 240\u001b[0m with_cast \u001b[38;5;241m=\u001b[39m \u001b[38;5;28;01mlambda\u001b[39;00m e: algorithm(element_type(e, \u001b[38;5;28;01mNone\u001b[39;00m))\n\u001b[0;32m    241\u001b[0m \u001b[38;5;28;01mreturn\u001b[39;00m \u001b[38;5;28mself\u001b[39m\u001b[38;5;241m.\u001b[39m_cast(apifunction\u001b[38;5;241m.\u001b[39mApiFunction\u001b[38;5;241m.\u001b[39mcall_(\n\u001b[0;32m    242\u001b[0m     \u001b[38;5;124m'\u001b[39m\u001b[38;5;124mCollection.map\u001b[39m\u001b[38;5;124m'\u001b[39m, \u001b[38;5;28mself\u001b[39m, with_cast, opt_dropNulls))\n",
      "Cell \u001b[1;32mIn[10], line 7\u001b[0m, in \u001b[0;36mharmonic_terms\u001b[1;34m(image)\u001b[0m\n\u001b[0;32m      4\u001b[0m timeRadians \u001b[38;5;241m=\u001b[39m ee\u001b[38;5;241m.\u001b[39mImage\u001b[38;5;241m.\u001b[39mconstant(years\u001b[38;5;241m.\u001b[39mmultiply(\u001b[38;5;241m2\u001b[39m \u001b[38;5;241m*\u001b[39m \u001b[38;5;241m3.141592\u001b[39m))\n\u001b[0;32m      6\u001b[0m \u001b[38;5;66;03m# Calcular términos armónicos\u001b[39;00m\n\u001b[1;32m----> 7\u001b[0m harmonics_list \u001b[38;5;241m=\u001b[39m harmonics_frequencies\u001b[38;5;241m.\u001b[39mmap(\u001b[38;5;28;01mlambda\u001b[39;00m f:\n\u001b[0;32m      8\u001b[0m                                            timeRadians\u001b[38;5;241m.\u001b[39mmultiply(ee\u001b[38;5;241m.\u001b[39mNumber(f))\u001b[38;5;241m.\u001b[39mcos()\u001b[38;5;241m.\u001b[39mrename(\u001b[38;5;124m'\u001b[39m\u001b[38;5;124mcos_\u001b[39m\u001b[38;5;124m'\u001b[39m \u001b[38;5;241m+\u001b[39m ee\u001b[38;5;241m.\u001b[39mNumber(f)\u001b[38;5;241m.\u001b[39mformat())\n\u001b[0;32m      9\u001b[0m                                            \u001b[38;5;241m.\u001b[39maddBands(timeRadians\u001b[38;5;241m.\u001b[39mmultiply(ee\u001b[38;5;241m.\u001b[39mNumber(f))\u001b[38;5;241m.\u001b[39msin()\u001b[38;5;241m.\u001b[39mrename(\u001b[38;5;124m'\u001b[39m\u001b[38;5;124msin_\u001b[39m\u001b[38;5;124m'\u001b[39m \u001b[38;5;241m+\u001b[39m ee\u001b[38;5;241m.\u001b[39mNumber(f)\u001b[38;5;241m.\u001b[39mformat())))\n\u001b[0;32m     11\u001b[0m \u001b[38;5;28;01mreturn\u001b[39;00m image\u001b[38;5;241m.\u001b[39maddBands(ee\u001b[38;5;241m.\u001b[39mImage\u001b[38;5;241m.\u001b[39mcat(harmonics_list))\n",
      "File \u001b[1;32m~\\anaconda3\\Lib\\site-packages\\ee\\apifunction.py:218\u001b[0m, in \u001b[0;36mApiFunction.importApi.<locals>.MakeBoundFunction.<locals>.<lambda>\u001b[1;34m(*args, **kwargs)\u001b[0m\n\u001b[0;32m    215\u001b[0m \u001b[38;5;28;01mdef\u001b[39;00m \u001b[38;5;21mMakeBoundFunction\u001b[39m(func):\n\u001b[0;32m    216\u001b[0m   \u001b[38;5;66;03m# We need the lambda to capture \"func\" from the enclosing scope.\u001b[39;00m\n\u001b[0;32m    217\u001b[0m   \u001b[38;5;66;03m# pylint: disable-next=unnecessary-lambda\u001b[39;00m\n\u001b[1;32m--> 218\u001b[0m   \u001b[38;5;28;01mreturn\u001b[39;00m \u001b[38;5;28;01mlambda\u001b[39;00m \u001b[38;5;241m*\u001b[39margs, \u001b[38;5;241m*\u001b[39m\u001b[38;5;241m*\u001b[39mkwargs: func\u001b[38;5;241m.\u001b[39mcall(\u001b[38;5;241m*\u001b[39margs, \u001b[38;5;241m*\u001b[39m\u001b[38;5;241m*\u001b[39mkwargs)\n",
      "File \u001b[1;32m~\\anaconda3\\Lib\\site-packages\\ee\\function.py:62\u001b[0m, in \u001b[0;36mFunction.call\u001b[1;34m(self, *args, **kwargs)\u001b[0m\n\u001b[0;32m     50\u001b[0m \u001b[38;5;28;01mdef\u001b[39;00m \u001b[38;5;21mcall\u001b[39m(\u001b[38;5;28mself\u001b[39m, \u001b[38;5;241m*\u001b[39margs, \u001b[38;5;241m*\u001b[39m\u001b[38;5;241m*\u001b[39mkwargs):\n\u001b[0;32m     51\u001b[0m \u001b[38;5;250m  \u001b[39m\u001b[38;5;124;03m\"\"\"Calls the function with the given positional and keyword arguments.\u001b[39;00m\n\u001b[0;32m     52\u001b[0m \n\u001b[0;32m     53\u001b[0m \u001b[38;5;124;03m  Args:\u001b[39;00m\n\u001b[1;32m   (...)\u001b[0m\n\u001b[0;32m     60\u001b[0m \u001b[38;5;124;03m    to that type.\u001b[39;00m\n\u001b[0;32m     61\u001b[0m \u001b[38;5;124;03m  \"\"\"\u001b[39;00m\n\u001b[1;32m---> 62\u001b[0m   \u001b[38;5;28;01mreturn\u001b[39;00m \u001b[38;5;28mself\u001b[39m\u001b[38;5;241m.\u001b[39mapply(\u001b[38;5;28mself\u001b[39m\u001b[38;5;241m.\u001b[39mnameArgs(args, kwargs))\n",
      "File \u001b[1;32m~\\anaconda3\\Lib\\site-packages\\ee\\function.py:75\u001b[0m, in \u001b[0;36mFunction.apply\u001b[1;34m(self, named_args)\u001b[0m\n\u001b[0;32m     64\u001b[0m \u001b[38;5;28;01mdef\u001b[39;00m \u001b[38;5;21mapply\u001b[39m(\u001b[38;5;28mself\u001b[39m, named_args):\n\u001b[0;32m     65\u001b[0m \u001b[38;5;250m  \u001b[39m\u001b[38;5;124;03m\"\"\"Calls the function with a dictionary of named arguments.\u001b[39;00m\n\u001b[0;32m     66\u001b[0m \n\u001b[0;32m     67\u001b[0m \u001b[38;5;124;03m  Args:\u001b[39;00m\n\u001b[1;32m   (...)\u001b[0m\n\u001b[0;32m     73\u001b[0m \u001b[38;5;124;03m    to that type.\u001b[39;00m\n\u001b[0;32m     74\u001b[0m \u001b[38;5;124;03m  \"\"\"\u001b[39;00m\n\u001b[1;32m---> 75\u001b[0m   result \u001b[38;5;241m=\u001b[39m computedobject\u001b[38;5;241m.\u001b[39mComputedObject(\u001b[38;5;28mself\u001b[39m, \u001b[38;5;28mself\u001b[39m\u001b[38;5;241m.\u001b[39mpromoteArgs(named_args))\n\u001b[0;32m     76\u001b[0m   \u001b[38;5;28;01mreturn\u001b[39;00m Function\u001b[38;5;241m.\u001b[39m_promoter(result, \u001b[38;5;28mself\u001b[39m\u001b[38;5;241m.\u001b[39mgetReturnType())\n",
      "File \u001b[1;32m~\\anaconda3\\Lib\\site-packages\\ee\\function.py:103\u001b[0m, in \u001b[0;36mFunction.promoteArgs\u001b[1;34m(self, args)\u001b[0m\n\u001b[0;32m    101\u001b[0m name \u001b[38;5;241m=\u001b[39m arg_spec[\u001b[38;5;124m'\u001b[39m\u001b[38;5;124mname\u001b[39m\u001b[38;5;124m'\u001b[39m]\n\u001b[0;32m    102\u001b[0m \u001b[38;5;28;01mif\u001b[39;00m name \u001b[38;5;129;01min\u001b[39;00m args:\n\u001b[1;32m--> 103\u001b[0m   promoted_args[name] \u001b[38;5;241m=\u001b[39m Function\u001b[38;5;241m.\u001b[39m_promoter(args[name], arg_spec[\u001b[38;5;124m'\u001b[39m\u001b[38;5;124mtype\u001b[39m\u001b[38;5;124m'\u001b[39m])\n\u001b[0;32m    104\u001b[0m \u001b[38;5;28;01melif\u001b[39;00m \u001b[38;5;129;01mnot\u001b[39;00m arg_spec\u001b[38;5;241m.\u001b[39mget(\u001b[38;5;124m'\u001b[39m\u001b[38;5;124moptional\u001b[39m\u001b[38;5;124m'\u001b[39m):\n\u001b[0;32m    105\u001b[0m   \u001b[38;5;28;01mraise\u001b[39;00m ee_exception\u001b[38;5;241m.\u001b[39mEEException(\n\u001b[0;32m    106\u001b[0m       \u001b[38;5;124m'\u001b[39m\u001b[38;5;124mRequired argument (\u001b[39m\u001b[38;5;132;01m%s\u001b[39;00m\u001b[38;5;124m) missing to function: \u001b[39m\u001b[38;5;132;01m%s\u001b[39;00m\u001b[38;5;124m'\u001b[39m\n\u001b[0;32m    107\u001b[0m       \u001b[38;5;241m%\u001b[39m (name, signature\u001b[38;5;241m.\u001b[39mget(\u001b[38;5;124m'\u001b[39m\u001b[38;5;124mname\u001b[39m\u001b[38;5;124m'\u001b[39m)))\n",
      "File \u001b[1;32m~\\anaconda3\\Lib\\site-packages\\ee\\__init__.py:268\u001b[0m, in \u001b[0;36m_Promote\u001b[1;34m(arg, a_class)\u001b[0m\n\u001b[0;32m    265\u001b[0m \u001b[38;5;28;01melif\u001b[39;00m \u001b[38;5;28mcallable\u001b[39m(arg):\n\u001b[0;32m    266\u001b[0m   \u001b[38;5;66;03m# A native function that needs to be wrapped.\u001b[39;00m\n\u001b[0;32m    267\u001b[0m   args_count \u001b[38;5;241m=\u001b[39m \u001b[38;5;28mlen\u001b[39m(inspect\u001b[38;5;241m.\u001b[39mgetfullargspec(arg)\u001b[38;5;241m.\u001b[39margs)\n\u001b[1;32m--> 268\u001b[0m   \u001b[38;5;28;01mreturn\u001b[39;00m CustomFunction\u001b[38;5;241m.\u001b[39mcreate(arg, \u001b[38;5;124m'\u001b[39m\u001b[38;5;124mObject\u001b[39m\u001b[38;5;124m'\u001b[39m, [\u001b[38;5;124m'\u001b[39m\u001b[38;5;124mObject\u001b[39m\u001b[38;5;124m'\u001b[39m] \u001b[38;5;241m*\u001b[39m args_count)\n\u001b[0;32m    269\u001b[0m \u001b[38;5;28;01melif\u001b[39;00m \u001b[38;5;28misinstance\u001b[39m(arg, Encodable):\n\u001b[0;32m    270\u001b[0m   \u001b[38;5;66;03m# An ee.Function or a computed function like the return value of\u001b[39;00m\n\u001b[0;32m    271\u001b[0m   \u001b[38;5;66;03m# Image.parseExpression().\u001b[39;00m\n\u001b[0;32m    272\u001b[0m   \u001b[38;5;28;01mreturn\u001b[39;00m arg\n",
      "File \u001b[1;32m~\\anaconda3\\Lib\\site-packages\\ee\\customfunction.py:127\u001b[0m, in \u001b[0;36mCustomFunction.create\u001b[1;34m(func, return_type, arg_types)\u001b[0m\n\u001b[0;32m    121\u001b[0m args \u001b[38;5;241m=\u001b[39m [{\u001b[38;5;124m'\u001b[39m\u001b[38;5;124mname\u001b[39m\u001b[38;5;124m'\u001b[39m: \u001b[38;5;28;01mNone\u001b[39;00m, \u001b[38;5;124m'\u001b[39m\u001b[38;5;124mtype\u001b[39m\u001b[38;5;124m'\u001b[39m: StringifyType(i)} \u001b[38;5;28;01mfor\u001b[39;00m i \u001b[38;5;129;01min\u001b[39;00m arg_types]\n\u001b[0;32m    122\u001b[0m signature \u001b[38;5;241m=\u001b[39m {\n\u001b[0;32m    123\u001b[0m     \u001b[38;5;124m'\u001b[39m\u001b[38;5;124mname\u001b[39m\u001b[38;5;124m'\u001b[39m: \u001b[38;5;124m'\u001b[39m\u001b[38;5;124m'\u001b[39m,\n\u001b[0;32m    124\u001b[0m     \u001b[38;5;124m'\u001b[39m\u001b[38;5;124mreturns\u001b[39m\u001b[38;5;124m'\u001b[39m: StringifyType(return_type),\n\u001b[0;32m    125\u001b[0m     \u001b[38;5;124m'\u001b[39m\u001b[38;5;124margs\u001b[39m\u001b[38;5;124m'\u001b[39m: args\n\u001b[0;32m    126\u001b[0m }\n\u001b[1;32m--> 127\u001b[0m \u001b[38;5;28;01mreturn\u001b[39;00m CustomFunction(signature, func)\n",
      "File \u001b[1;32m~\\anaconda3\\Lib\\site-packages\\ee\\customfunction.py:41\u001b[0m, in \u001b[0;36mCustomFunction.__init__\u001b[1;34m(self, signature, body)\u001b[0m\n\u001b[0;32m     27\u001b[0m \u001b[38;5;250m\u001b[39m\u001b[38;5;124;03m\"\"\"Creates a function defined by a given expression with unbound variables.\u001b[39;00m\n\u001b[0;32m     28\u001b[0m \n\u001b[0;32m     29\u001b[0m \u001b[38;5;124;03mThe expression is created by evaluating the given function\u001b[39;00m\n\u001b[1;32m   (...)\u001b[0m\n\u001b[0;32m     36\u001b[0m \u001b[38;5;124;03m  body: The Python function to evaluate.\u001b[39;00m\n\u001b[0;32m     37\u001b[0m \u001b[38;5;124;03m\"\"\"\u001b[39;00m\n\u001b[0;32m     38\u001b[0m variables \u001b[38;5;241m=\u001b[39m [CustomFunction\u001b[38;5;241m.\u001b[39mvariable(arg[\u001b[38;5;124m'\u001b[39m\u001b[38;5;124mtype\u001b[39m\u001b[38;5;124m'\u001b[39m], arg[\u001b[38;5;124m'\u001b[39m\u001b[38;5;124mname\u001b[39m\u001b[38;5;124m'\u001b[39m])\n\u001b[0;32m     39\u001b[0m              \u001b[38;5;28;01mfor\u001b[39;00m arg \u001b[38;5;129;01min\u001b[39;00m signature[\u001b[38;5;124m'\u001b[39m\u001b[38;5;124margs\u001b[39m\u001b[38;5;124m'\u001b[39m]]\n\u001b[1;32m---> 41\u001b[0m \u001b[38;5;28;01mif\u001b[39;00m body(\u001b[38;5;241m*\u001b[39mvariables) \u001b[38;5;129;01mis\u001b[39;00m \u001b[38;5;28;01mNone\u001b[39;00m:\n\u001b[0;32m     42\u001b[0m   \u001b[38;5;28;01mraise\u001b[39;00m ee_exception\u001b[38;5;241m.\u001b[39mEEException(\u001b[38;5;124m'\u001b[39m\u001b[38;5;124mUser-defined methods must return a value\u001b[39m\u001b[38;5;124m'\u001b[39m)\n\u001b[0;32m     44\u001b[0m \u001b[38;5;66;03m# The signature of the function.\u001b[39;00m\n",
      "Cell \u001b[1;32mIn[10], line 8\u001b[0m, in \u001b[0;36mharmonic_terms.<locals>.<lambda>\u001b[1;34m(f)\u001b[0m\n\u001b[0;32m      4\u001b[0m timeRadians \u001b[38;5;241m=\u001b[39m ee\u001b[38;5;241m.\u001b[39mImage\u001b[38;5;241m.\u001b[39mconstant(years\u001b[38;5;241m.\u001b[39mmultiply(\u001b[38;5;241m2\u001b[39m \u001b[38;5;241m*\u001b[39m \u001b[38;5;241m3.141592\u001b[39m))\n\u001b[0;32m      6\u001b[0m \u001b[38;5;66;03m# Calcular términos armónicos\u001b[39;00m\n\u001b[0;32m      7\u001b[0m harmonics_list \u001b[38;5;241m=\u001b[39m harmonics_frequencies\u001b[38;5;241m.\u001b[39mmap(\u001b[38;5;28;01mlambda\u001b[39;00m f:\n\u001b[1;32m----> 8\u001b[0m                                            timeRadians\u001b[38;5;241m.\u001b[39mmultiply(ee\u001b[38;5;241m.\u001b[39mNumber(f))\u001b[38;5;241m.\u001b[39mcos()\u001b[38;5;241m.\u001b[39mrename(\u001b[38;5;124m'\u001b[39m\u001b[38;5;124mcos_\u001b[39m\u001b[38;5;124m'\u001b[39m \u001b[38;5;241m+\u001b[39m ee\u001b[38;5;241m.\u001b[39mNumber(f)\u001b[38;5;241m.\u001b[39mformat())\n\u001b[0;32m      9\u001b[0m                                            \u001b[38;5;241m.\u001b[39maddBands(timeRadians\u001b[38;5;241m.\u001b[39mmultiply(ee\u001b[38;5;241m.\u001b[39mNumber(f))\u001b[38;5;241m.\u001b[39msin()\u001b[38;5;241m.\u001b[39mrename(\u001b[38;5;124m'\u001b[39m\u001b[38;5;124msin_\u001b[39m\u001b[38;5;124m'\u001b[39m \u001b[38;5;241m+\u001b[39m ee\u001b[38;5;241m.\u001b[39mNumber(f)\u001b[38;5;241m.\u001b[39mformat())))\n\u001b[0;32m     11\u001b[0m \u001b[38;5;28;01mreturn\u001b[39;00m image\u001b[38;5;241m.\u001b[39maddBands(ee\u001b[38;5;241m.\u001b[39mImage\u001b[38;5;241m.\u001b[39mcat(harmonics_list))\n",
      "\u001b[1;31mTypeError\u001b[0m: can only concatenate str (not \"String\") to str"
     ]
    }
   ],
   "source": [
    "# Mapear la función a la colección de imágenes\n",
    "harmonic_collection = harmonicLandsat.map(harmonic_terms)\n",
    "\n"
   ]
  },
  {
   "cell_type": "code",
   "execution_count": null,
   "id": "1d6516e8-7068-4a8c-87b6-fcfa76f11ac3",
   "metadata": {},
   "outputs": [],
   "source": [
    "# Función para aplicar la regresión y calcular R² y RMSE\n",
    "def fit_harmonic_model(image):\n",
    "    fitted = image.select(['cos_1', 'sin_1']).reduce(ee.Reducer.linearFit())\n",
    "    residuals = image.subtract(fitted)\n",
    "    rmse = residuals.pow(2).reduce(ee.Reducer.mean()).sqrt().rename('RMSE')\n",
    "    r_squared = fitted.select('scale').pow(2).rename('R_squared')\n",
    "    return image.addBands(fitted).addBands(rmse).addBands(r_squared)\n"
   ]
  },
  {
   "cell_type": "code",
   "execution_count": null,
   "id": "469703bc-cde4-4be1-a8c2-80ec43fd5709",
   "metadata": {},
   "outputs": [],
   "source": [
    "# Aplicar el modelo\n",
    "fitted_harmonic_img = fit_harmonic_model(harmonicCoefficients)"
   ]
  },
  {
   "cell_type": "code",
   "execution_count": null,
   "id": "7345388f-0886-4719-9860-9a3e0e077d51",
   "metadata": {},
   "outputs": [],
   "source": [
    "# Visualización en el mapa\n",
    "Map = geemap.Map(center=[37.76, -122.44], zoom=10)"
   ]
  },
  {
   "cell_type": "code",
   "execution_count": null,
   "id": "78454bbf-4885-42e0-9918-59b680fd9c55",
   "metadata": {},
   "outputs": [],
   "source": [
    "# Visualizar los coeficientes armónicos\n",
    "Map.addLayer(fitted_harmonic_img.select(['offset']), {'min': -0.5, 'max': 0.5, 'palette': ['blue', 'white', 'red']}, 'Offset')\n",
    "Map.addLayer(fitted_harmonic_img.select(['scale']), {'min': 0, 'max': 1, 'palette': ['black', 'white']}, 'Scale')\n",
    "Map.addLayer(fitted_harmonic_img.select(['RMSE']), {'min': 0, 'max': 0.5, 'palette': ['black', 'red']}, 'RMSE')\n",
    "Map.addLayer(fitted_harmonic_img.select(['R_squared']), {'min': 0, 'max': 1, 'palette': ['white', 'green']}, 'R_squared')\n",
    "\n",
    "# Mostrar el mapa\n",
    "Map.addLayer(roi, {}, 'ROI')\n",
    "Map.addLayerControl()\n",
    "Map"
   ]
  },
  {
   "cell_type": "code",
   "execution_count": 15,
   "id": "71e3081a-7665-4778-9de5-8503cfb585b7",
   "metadata": {
    "tags": []
   },
   "outputs": [
    {
     "data": {
      "text/html": [
       "\n",
       "            <style>\n",
       "                .geemap-dark {\n",
       "                    --jp-widgets-color: white;\n",
       "                    --jp-widgets-label-color: white;\n",
       "                    --jp-ui-font-color1: white;\n",
       "                    --jp-layout-color2: #454545;\n",
       "                    background-color: #383838;\n",
       "                }\n",
       "                    \n",
       "                .geemap-dark .jupyter-button {\n",
       "                    --jp-layout-color3: #383838;\n",
       "                }\n",
       "                \n",
       "                .geemap-colab {\n",
       "                    background-color: var(--colab-primary-surface-color, white);\n",
       "                }\n",
       "                    \n",
       "                .geemap-colab .jupyter-button {\n",
       "                    --jp-layout-color3: var(--colab-primary-surface-color, white);\n",
       "                }\n",
       "            </style>\n",
       "            "
      ],
      "text/plain": [
       "<IPython.core.display.HTML object>"
      ]
     },
     "metadata": {},
     "output_type": "display_data"
    },
    {
     "ename": "EEException",
     "evalue": "A mapped function's arguments cannot be used in client-side operations",
     "output_type": "error",
     "traceback": [
      "\u001b[1;31m---------------------------------------------------------------------------\u001b[0m",
      "\u001b[1;31mEEException\u001b[0m                               Traceback (most recent call last)",
      "Cell \u001b[1;32mIn[15], line 56\u001b[0m\n\u001b[0;32m     53\u001b[0m     \u001b[38;5;28;01mreturn\u001b[39;00m image\u001b[38;5;241m.\u001b[39maddBands(harmonic_image)\n\u001b[0;32m     55\u001b[0m \u001b[38;5;66;03m# Mapear la función a la colección de imágenes\u001b[39;00m\n\u001b[1;32m---> 56\u001b[0m harmonic_collection \u001b[38;5;241m=\u001b[39m harmonicLandsat\u001b[38;5;241m.\u001b[39mmap(harmonic_terms)\n\u001b[0;32m     58\u001b[0m \u001b[38;5;66;03m# Unir todos los términos en una sola imagen\u001b[39;00m\n\u001b[0;32m     59\u001b[0m harmonic_img \u001b[38;5;241m=\u001b[39m harmonic_collection\u001b[38;5;241m.\u001b[39mtoArray()\n",
      "File \u001b[1;32m~\\anaconda3\\Lib\\site-packages\\ee\\collection.py:241\u001b[0m, in \u001b[0;36mCollection.map\u001b[1;34m(self, algorithm, opt_dropNulls)\u001b[0m\n\u001b[0;32m    239\u001b[0m element_type \u001b[38;5;241m=\u001b[39m \u001b[38;5;28mself\u001b[39m\u001b[38;5;241m.\u001b[39melementType()\n\u001b[0;32m    240\u001b[0m with_cast \u001b[38;5;241m=\u001b[39m \u001b[38;5;28;01mlambda\u001b[39;00m e: algorithm(element_type(e, \u001b[38;5;28;01mNone\u001b[39;00m))\n\u001b[1;32m--> 241\u001b[0m \u001b[38;5;28;01mreturn\u001b[39;00m \u001b[38;5;28mself\u001b[39m\u001b[38;5;241m.\u001b[39m_cast(apifunction\u001b[38;5;241m.\u001b[39mApiFunction\u001b[38;5;241m.\u001b[39mcall_(\n\u001b[0;32m    242\u001b[0m     \u001b[38;5;124m'\u001b[39m\u001b[38;5;124mCollection.map\u001b[39m\u001b[38;5;124m'\u001b[39m, \u001b[38;5;28mself\u001b[39m, with_cast, opt_dropNulls))\n",
      "File \u001b[1;32m~\\anaconda3\\Lib\\site-packages\\ee\\apifunction.py:83\u001b[0m, in \u001b[0;36mApiFunction.call_\u001b[1;34m(cls, name, *args, **kwargs)\u001b[0m\n\u001b[0;32m     70\u001b[0m \u001b[38;5;129m@classmethod\u001b[39m\n\u001b[0;32m     71\u001b[0m \u001b[38;5;28;01mdef\u001b[39;00m \u001b[38;5;21mcall_\u001b[39m(\u001b[38;5;28mcls\u001b[39m, name: \u001b[38;5;28mstr\u001b[39m, \u001b[38;5;241m*\u001b[39margs: Any, \u001b[38;5;241m*\u001b[39m\u001b[38;5;241m*\u001b[39mkwargs: Any) \u001b[38;5;241m-\u001b[39m\u001b[38;5;241m>\u001b[39m Any:\n\u001b[0;32m     72\u001b[0m \u001b[38;5;250m  \u001b[39m\u001b[38;5;124;03m\"\"\"Call a named API function with positional and keyword arguments.\u001b[39;00m\n\u001b[0;32m     73\u001b[0m \n\u001b[0;32m     74\u001b[0m \u001b[38;5;124;03m  Args:\u001b[39;00m\n\u001b[1;32m   (...)\u001b[0m\n\u001b[0;32m     81\u001b[0m \u001b[38;5;124;03m    a recognized return type, the returned value will be cast to that type.\u001b[39;00m\n\u001b[0;32m     82\u001b[0m \u001b[38;5;124;03m  \"\"\"\u001b[39;00m\n\u001b[1;32m---> 83\u001b[0m   \u001b[38;5;28;01mreturn\u001b[39;00m \u001b[38;5;28mcls\u001b[39m\u001b[38;5;241m.\u001b[39mlookup(name)\u001b[38;5;241m.\u001b[39mcall(\u001b[38;5;241m*\u001b[39margs, \u001b[38;5;241m*\u001b[39m\u001b[38;5;241m*\u001b[39mkwargs)\n",
      "File \u001b[1;32m~\\anaconda3\\Lib\\site-packages\\ee\\function.py:62\u001b[0m, in \u001b[0;36mFunction.call\u001b[1;34m(self, *args, **kwargs)\u001b[0m\n\u001b[0;32m     50\u001b[0m \u001b[38;5;28;01mdef\u001b[39;00m \u001b[38;5;21mcall\u001b[39m(\u001b[38;5;28mself\u001b[39m, \u001b[38;5;241m*\u001b[39margs, \u001b[38;5;241m*\u001b[39m\u001b[38;5;241m*\u001b[39mkwargs):\n\u001b[0;32m     51\u001b[0m \u001b[38;5;250m  \u001b[39m\u001b[38;5;124;03m\"\"\"Calls the function with the given positional and keyword arguments.\u001b[39;00m\n\u001b[0;32m     52\u001b[0m \n\u001b[0;32m     53\u001b[0m \u001b[38;5;124;03m  Args:\u001b[39;00m\n\u001b[1;32m   (...)\u001b[0m\n\u001b[0;32m     60\u001b[0m \u001b[38;5;124;03m    to that type.\u001b[39;00m\n\u001b[0;32m     61\u001b[0m \u001b[38;5;124;03m  \"\"\"\u001b[39;00m\n\u001b[1;32m---> 62\u001b[0m   \u001b[38;5;28;01mreturn\u001b[39;00m \u001b[38;5;28mself\u001b[39m\u001b[38;5;241m.\u001b[39mapply(\u001b[38;5;28mself\u001b[39m\u001b[38;5;241m.\u001b[39mnameArgs(args, kwargs))\n",
      "File \u001b[1;32m~\\anaconda3\\Lib\\site-packages\\ee\\function.py:75\u001b[0m, in \u001b[0;36mFunction.apply\u001b[1;34m(self, named_args)\u001b[0m\n\u001b[0;32m     64\u001b[0m \u001b[38;5;28;01mdef\u001b[39;00m \u001b[38;5;21mapply\u001b[39m(\u001b[38;5;28mself\u001b[39m, named_args):\n\u001b[0;32m     65\u001b[0m \u001b[38;5;250m  \u001b[39m\u001b[38;5;124;03m\"\"\"Calls the function with a dictionary of named arguments.\u001b[39;00m\n\u001b[0;32m     66\u001b[0m \n\u001b[0;32m     67\u001b[0m \u001b[38;5;124;03m  Args:\u001b[39;00m\n\u001b[1;32m   (...)\u001b[0m\n\u001b[0;32m     73\u001b[0m \u001b[38;5;124;03m    to that type.\u001b[39;00m\n\u001b[0;32m     74\u001b[0m \u001b[38;5;124;03m  \"\"\"\u001b[39;00m\n\u001b[1;32m---> 75\u001b[0m   result \u001b[38;5;241m=\u001b[39m computedobject\u001b[38;5;241m.\u001b[39mComputedObject(\u001b[38;5;28mself\u001b[39m, \u001b[38;5;28mself\u001b[39m\u001b[38;5;241m.\u001b[39mpromoteArgs(named_args))\n\u001b[0;32m     76\u001b[0m   \u001b[38;5;28;01mreturn\u001b[39;00m Function\u001b[38;5;241m.\u001b[39m_promoter(result, \u001b[38;5;28mself\u001b[39m\u001b[38;5;241m.\u001b[39mgetReturnType())\n",
      "File \u001b[1;32m~\\anaconda3\\Lib\\site-packages\\ee\\function.py:103\u001b[0m, in \u001b[0;36mFunction.promoteArgs\u001b[1;34m(self, args)\u001b[0m\n\u001b[0;32m    101\u001b[0m name \u001b[38;5;241m=\u001b[39m arg_spec[\u001b[38;5;124m'\u001b[39m\u001b[38;5;124mname\u001b[39m\u001b[38;5;124m'\u001b[39m]\n\u001b[0;32m    102\u001b[0m \u001b[38;5;28;01mif\u001b[39;00m name \u001b[38;5;129;01min\u001b[39;00m args:\n\u001b[1;32m--> 103\u001b[0m   promoted_args[name] \u001b[38;5;241m=\u001b[39m Function\u001b[38;5;241m.\u001b[39m_promoter(args[name], arg_spec[\u001b[38;5;124m'\u001b[39m\u001b[38;5;124mtype\u001b[39m\u001b[38;5;124m'\u001b[39m])\n\u001b[0;32m    104\u001b[0m \u001b[38;5;28;01melif\u001b[39;00m \u001b[38;5;129;01mnot\u001b[39;00m arg_spec\u001b[38;5;241m.\u001b[39mget(\u001b[38;5;124m'\u001b[39m\u001b[38;5;124moptional\u001b[39m\u001b[38;5;124m'\u001b[39m):\n\u001b[0;32m    105\u001b[0m   \u001b[38;5;28;01mraise\u001b[39;00m ee_exception\u001b[38;5;241m.\u001b[39mEEException(\n\u001b[0;32m    106\u001b[0m       \u001b[38;5;124m'\u001b[39m\u001b[38;5;124mRequired argument (\u001b[39m\u001b[38;5;132;01m%s\u001b[39;00m\u001b[38;5;124m) missing to function: \u001b[39m\u001b[38;5;132;01m%s\u001b[39;00m\u001b[38;5;124m'\u001b[39m\n\u001b[0;32m    107\u001b[0m       \u001b[38;5;241m%\u001b[39m (name, signature\u001b[38;5;241m.\u001b[39mget(\u001b[38;5;124m'\u001b[39m\u001b[38;5;124mname\u001b[39m\u001b[38;5;124m'\u001b[39m)))\n",
      "File \u001b[1;32m~\\anaconda3\\Lib\\site-packages\\ee\\__init__.py:268\u001b[0m, in \u001b[0;36m_Promote\u001b[1;34m(arg, a_class)\u001b[0m\n\u001b[0;32m    265\u001b[0m \u001b[38;5;28;01melif\u001b[39;00m \u001b[38;5;28mcallable\u001b[39m(arg):\n\u001b[0;32m    266\u001b[0m   \u001b[38;5;66;03m# A native function that needs to be wrapped.\u001b[39;00m\n\u001b[0;32m    267\u001b[0m   args_count \u001b[38;5;241m=\u001b[39m \u001b[38;5;28mlen\u001b[39m(inspect\u001b[38;5;241m.\u001b[39mgetfullargspec(arg)\u001b[38;5;241m.\u001b[39margs)\n\u001b[1;32m--> 268\u001b[0m   \u001b[38;5;28;01mreturn\u001b[39;00m CustomFunction\u001b[38;5;241m.\u001b[39mcreate(arg, \u001b[38;5;124m'\u001b[39m\u001b[38;5;124mObject\u001b[39m\u001b[38;5;124m'\u001b[39m, [\u001b[38;5;124m'\u001b[39m\u001b[38;5;124mObject\u001b[39m\u001b[38;5;124m'\u001b[39m] \u001b[38;5;241m*\u001b[39m args_count)\n\u001b[0;32m    269\u001b[0m \u001b[38;5;28;01melif\u001b[39;00m \u001b[38;5;28misinstance\u001b[39m(arg, Encodable):\n\u001b[0;32m    270\u001b[0m   \u001b[38;5;66;03m# An ee.Function or a computed function like the return value of\u001b[39;00m\n\u001b[0;32m    271\u001b[0m   \u001b[38;5;66;03m# Image.parseExpression().\u001b[39;00m\n\u001b[0;32m    272\u001b[0m   \u001b[38;5;28;01mreturn\u001b[39;00m arg\n",
      "File \u001b[1;32m~\\anaconda3\\Lib\\site-packages\\ee\\customfunction.py:127\u001b[0m, in \u001b[0;36mCustomFunction.create\u001b[1;34m(func, return_type, arg_types)\u001b[0m\n\u001b[0;32m    121\u001b[0m args \u001b[38;5;241m=\u001b[39m [{\u001b[38;5;124m'\u001b[39m\u001b[38;5;124mname\u001b[39m\u001b[38;5;124m'\u001b[39m: \u001b[38;5;28;01mNone\u001b[39;00m, \u001b[38;5;124m'\u001b[39m\u001b[38;5;124mtype\u001b[39m\u001b[38;5;124m'\u001b[39m: StringifyType(i)} \u001b[38;5;28;01mfor\u001b[39;00m i \u001b[38;5;129;01min\u001b[39;00m arg_types]\n\u001b[0;32m    122\u001b[0m signature \u001b[38;5;241m=\u001b[39m {\n\u001b[0;32m    123\u001b[0m     \u001b[38;5;124m'\u001b[39m\u001b[38;5;124mname\u001b[39m\u001b[38;5;124m'\u001b[39m: \u001b[38;5;124m'\u001b[39m\u001b[38;5;124m'\u001b[39m,\n\u001b[0;32m    124\u001b[0m     \u001b[38;5;124m'\u001b[39m\u001b[38;5;124mreturns\u001b[39m\u001b[38;5;124m'\u001b[39m: StringifyType(return_type),\n\u001b[0;32m    125\u001b[0m     \u001b[38;5;124m'\u001b[39m\u001b[38;5;124margs\u001b[39m\u001b[38;5;124m'\u001b[39m: args\n\u001b[0;32m    126\u001b[0m }\n\u001b[1;32m--> 127\u001b[0m \u001b[38;5;28;01mreturn\u001b[39;00m CustomFunction(signature, func)\n",
      "File \u001b[1;32m~\\anaconda3\\Lib\\site-packages\\ee\\customfunction.py:41\u001b[0m, in \u001b[0;36mCustomFunction.__init__\u001b[1;34m(self, signature, body)\u001b[0m\n\u001b[0;32m     27\u001b[0m \u001b[38;5;250m\u001b[39m\u001b[38;5;124;03m\"\"\"Creates a function defined by a given expression with unbound variables.\u001b[39;00m\n\u001b[0;32m     28\u001b[0m \n\u001b[0;32m     29\u001b[0m \u001b[38;5;124;03mThe expression is created by evaluating the given function\u001b[39;00m\n\u001b[1;32m   (...)\u001b[0m\n\u001b[0;32m     36\u001b[0m \u001b[38;5;124;03m  body: The Python function to evaluate.\u001b[39;00m\n\u001b[0;32m     37\u001b[0m \u001b[38;5;124;03m\"\"\"\u001b[39;00m\n\u001b[0;32m     38\u001b[0m variables \u001b[38;5;241m=\u001b[39m [CustomFunction\u001b[38;5;241m.\u001b[39mvariable(arg[\u001b[38;5;124m'\u001b[39m\u001b[38;5;124mtype\u001b[39m\u001b[38;5;124m'\u001b[39m], arg[\u001b[38;5;124m'\u001b[39m\u001b[38;5;124mname\u001b[39m\u001b[38;5;124m'\u001b[39m])\n\u001b[0;32m     39\u001b[0m              \u001b[38;5;28;01mfor\u001b[39;00m arg \u001b[38;5;129;01min\u001b[39;00m signature[\u001b[38;5;124m'\u001b[39m\u001b[38;5;124margs\u001b[39m\u001b[38;5;124m'\u001b[39m]]\n\u001b[1;32m---> 41\u001b[0m \u001b[38;5;28;01mif\u001b[39;00m body(\u001b[38;5;241m*\u001b[39mvariables) \u001b[38;5;129;01mis\u001b[39;00m \u001b[38;5;28;01mNone\u001b[39;00m:\n\u001b[0;32m     42\u001b[0m   \u001b[38;5;28;01mraise\u001b[39;00m ee_exception\u001b[38;5;241m.\u001b[39mEEException(\u001b[38;5;124m'\u001b[39m\u001b[38;5;124mUser-defined methods must return a value\u001b[39m\u001b[38;5;124m'\u001b[39m)\n\u001b[0;32m     44\u001b[0m \u001b[38;5;66;03m# The signature of the function.\u001b[39;00m\n",
      "File \u001b[1;32m~\\anaconda3\\Lib\\site-packages\\ee\\collection.py:240\u001b[0m, in \u001b[0;36mCollection.map.<locals>.<lambda>\u001b[1;34m(e)\u001b[0m\n\u001b[0;32m    222\u001b[0m \u001b[38;5;250m\u001b[39m\u001b[38;5;124;03m\"\"\"Maps an algorithm over a collection.\u001b[39;00m\n\u001b[0;32m    223\u001b[0m \n\u001b[0;32m    224\u001b[0m \u001b[38;5;124;03mArgs:\u001b[39;00m\n\u001b[1;32m   (...)\u001b[0m\n\u001b[0;32m    237\u001b[0m \u001b[38;5;124;03m  ee_exception.EEException: if algorithm is not a function.\u001b[39;00m\n\u001b[0;32m    238\u001b[0m \u001b[38;5;124;03m\"\"\"\u001b[39;00m\n\u001b[0;32m    239\u001b[0m element_type \u001b[38;5;241m=\u001b[39m \u001b[38;5;28mself\u001b[39m\u001b[38;5;241m.\u001b[39melementType()\n\u001b[1;32m--> 240\u001b[0m with_cast \u001b[38;5;241m=\u001b[39m \u001b[38;5;28;01mlambda\u001b[39;00m e: algorithm(element_type(e, \u001b[38;5;28;01mNone\u001b[39;00m))\n\u001b[0;32m    241\u001b[0m \u001b[38;5;28;01mreturn\u001b[39;00m \u001b[38;5;28mself\u001b[39m\u001b[38;5;241m.\u001b[39m_cast(apifunction\u001b[38;5;241m.\u001b[39mApiFunction\u001b[38;5;241m.\u001b[39mcall_(\n\u001b[0;32m    242\u001b[0m     \u001b[38;5;124m'\u001b[39m\u001b[38;5;124mCollection.map\u001b[39m\u001b[38;5;124m'\u001b[39m, \u001b[38;5;28mself\u001b[39m, with_cast, opt_dropNulls))\n",
      "Cell \u001b[1;32mIn[15], line 50\u001b[0m, in \u001b[0;36mharmonic_terms\u001b[1;34m(image)\u001b[0m\n\u001b[0;32m     47\u001b[0m     sin_band \u001b[38;5;241m=\u001b[39m timeRadians\u001b[38;5;241m.\u001b[39mmultiply(f)\u001b[38;5;241m.\u001b[39msin()\u001b[38;5;241m.\u001b[39mrename(\u001b[38;5;124mf\u001b[39m\u001b[38;5;124m'\u001b[39m\u001b[38;5;124msin_\u001b[39m\u001b[38;5;132;01m{\u001b[39;00mf\u001b[38;5;241m.\u001b[39mgetInfo()\u001b[38;5;132;01m}\u001b[39;00m\u001b[38;5;124m'\u001b[39m)\n\u001b[0;32m     48\u001b[0m     \u001b[38;5;28;01mreturn\u001b[39;00m image\u001b[38;5;241m.\u001b[39maddBands(cos_band)\u001b[38;5;241m.\u001b[39maddBands(sin_band)\n\u001b[1;32m---> 50\u001b[0m harmonic_images \u001b[38;5;241m=\u001b[39m harmonics_frequencies\u001b[38;5;241m.\u001b[39mmap(compute_harmonics)\n\u001b[0;32m     51\u001b[0m harmonic_image \u001b[38;5;241m=\u001b[39m ee\u001b[38;5;241m.\u001b[39mImage(harmonic_images\u001b[38;5;241m.\u001b[39miterate(\u001b[38;5;28;01mlambda\u001b[39;00m img, result: ee\u001b[38;5;241m.\u001b[39mImage(result)\u001b[38;5;241m.\u001b[39maddBands(img), ee\u001b[38;5;241m.\u001b[39mImage()))\n\u001b[0;32m     53\u001b[0m \u001b[38;5;28;01mreturn\u001b[39;00m image\u001b[38;5;241m.\u001b[39maddBands(harmonic_image)\n",
      "File \u001b[1;32m~\\anaconda3\\Lib\\site-packages\\ee\\apifunction.py:218\u001b[0m, in \u001b[0;36mApiFunction.importApi.<locals>.MakeBoundFunction.<locals>.<lambda>\u001b[1;34m(*args, **kwargs)\u001b[0m\n\u001b[0;32m    215\u001b[0m \u001b[38;5;28;01mdef\u001b[39;00m \u001b[38;5;21mMakeBoundFunction\u001b[39m(func):\n\u001b[0;32m    216\u001b[0m   \u001b[38;5;66;03m# We need the lambda to capture \"func\" from the enclosing scope.\u001b[39;00m\n\u001b[0;32m    217\u001b[0m   \u001b[38;5;66;03m# pylint: disable-next=unnecessary-lambda\u001b[39;00m\n\u001b[1;32m--> 218\u001b[0m   \u001b[38;5;28;01mreturn\u001b[39;00m \u001b[38;5;28;01mlambda\u001b[39;00m \u001b[38;5;241m*\u001b[39margs, \u001b[38;5;241m*\u001b[39m\u001b[38;5;241m*\u001b[39mkwargs: func\u001b[38;5;241m.\u001b[39mcall(\u001b[38;5;241m*\u001b[39margs, \u001b[38;5;241m*\u001b[39m\u001b[38;5;241m*\u001b[39mkwargs)\n",
      "File \u001b[1;32m~\\anaconda3\\Lib\\site-packages\\ee\\function.py:62\u001b[0m, in \u001b[0;36mFunction.call\u001b[1;34m(self, *args, **kwargs)\u001b[0m\n\u001b[0;32m     50\u001b[0m \u001b[38;5;28;01mdef\u001b[39;00m \u001b[38;5;21mcall\u001b[39m(\u001b[38;5;28mself\u001b[39m, \u001b[38;5;241m*\u001b[39margs, \u001b[38;5;241m*\u001b[39m\u001b[38;5;241m*\u001b[39mkwargs):\n\u001b[0;32m     51\u001b[0m \u001b[38;5;250m  \u001b[39m\u001b[38;5;124;03m\"\"\"Calls the function with the given positional and keyword arguments.\u001b[39;00m\n\u001b[0;32m     52\u001b[0m \n\u001b[0;32m     53\u001b[0m \u001b[38;5;124;03m  Args:\u001b[39;00m\n\u001b[1;32m   (...)\u001b[0m\n\u001b[0;32m     60\u001b[0m \u001b[38;5;124;03m    to that type.\u001b[39;00m\n\u001b[0;32m     61\u001b[0m \u001b[38;5;124;03m  \"\"\"\u001b[39;00m\n\u001b[1;32m---> 62\u001b[0m   \u001b[38;5;28;01mreturn\u001b[39;00m \u001b[38;5;28mself\u001b[39m\u001b[38;5;241m.\u001b[39mapply(\u001b[38;5;28mself\u001b[39m\u001b[38;5;241m.\u001b[39mnameArgs(args, kwargs))\n",
      "File \u001b[1;32m~\\anaconda3\\Lib\\site-packages\\ee\\function.py:75\u001b[0m, in \u001b[0;36mFunction.apply\u001b[1;34m(self, named_args)\u001b[0m\n\u001b[0;32m     64\u001b[0m \u001b[38;5;28;01mdef\u001b[39;00m \u001b[38;5;21mapply\u001b[39m(\u001b[38;5;28mself\u001b[39m, named_args):\n\u001b[0;32m     65\u001b[0m \u001b[38;5;250m  \u001b[39m\u001b[38;5;124;03m\"\"\"Calls the function with a dictionary of named arguments.\u001b[39;00m\n\u001b[0;32m     66\u001b[0m \n\u001b[0;32m     67\u001b[0m \u001b[38;5;124;03m  Args:\u001b[39;00m\n\u001b[1;32m   (...)\u001b[0m\n\u001b[0;32m     73\u001b[0m \u001b[38;5;124;03m    to that type.\u001b[39;00m\n\u001b[0;32m     74\u001b[0m \u001b[38;5;124;03m  \"\"\"\u001b[39;00m\n\u001b[1;32m---> 75\u001b[0m   result \u001b[38;5;241m=\u001b[39m computedobject\u001b[38;5;241m.\u001b[39mComputedObject(\u001b[38;5;28mself\u001b[39m, \u001b[38;5;28mself\u001b[39m\u001b[38;5;241m.\u001b[39mpromoteArgs(named_args))\n\u001b[0;32m     76\u001b[0m   \u001b[38;5;28;01mreturn\u001b[39;00m Function\u001b[38;5;241m.\u001b[39m_promoter(result, \u001b[38;5;28mself\u001b[39m\u001b[38;5;241m.\u001b[39mgetReturnType())\n",
      "File \u001b[1;32m~\\anaconda3\\Lib\\site-packages\\ee\\function.py:103\u001b[0m, in \u001b[0;36mFunction.promoteArgs\u001b[1;34m(self, args)\u001b[0m\n\u001b[0;32m    101\u001b[0m name \u001b[38;5;241m=\u001b[39m arg_spec[\u001b[38;5;124m'\u001b[39m\u001b[38;5;124mname\u001b[39m\u001b[38;5;124m'\u001b[39m]\n\u001b[0;32m    102\u001b[0m \u001b[38;5;28;01mif\u001b[39;00m name \u001b[38;5;129;01min\u001b[39;00m args:\n\u001b[1;32m--> 103\u001b[0m   promoted_args[name] \u001b[38;5;241m=\u001b[39m Function\u001b[38;5;241m.\u001b[39m_promoter(args[name], arg_spec[\u001b[38;5;124m'\u001b[39m\u001b[38;5;124mtype\u001b[39m\u001b[38;5;124m'\u001b[39m])\n\u001b[0;32m    104\u001b[0m \u001b[38;5;28;01melif\u001b[39;00m \u001b[38;5;129;01mnot\u001b[39;00m arg_spec\u001b[38;5;241m.\u001b[39mget(\u001b[38;5;124m'\u001b[39m\u001b[38;5;124moptional\u001b[39m\u001b[38;5;124m'\u001b[39m):\n\u001b[0;32m    105\u001b[0m   \u001b[38;5;28;01mraise\u001b[39;00m ee_exception\u001b[38;5;241m.\u001b[39mEEException(\n\u001b[0;32m    106\u001b[0m       \u001b[38;5;124m'\u001b[39m\u001b[38;5;124mRequired argument (\u001b[39m\u001b[38;5;132;01m%s\u001b[39;00m\u001b[38;5;124m) missing to function: \u001b[39m\u001b[38;5;132;01m%s\u001b[39;00m\u001b[38;5;124m'\u001b[39m\n\u001b[0;32m    107\u001b[0m       \u001b[38;5;241m%\u001b[39m (name, signature\u001b[38;5;241m.\u001b[39mget(\u001b[38;5;124m'\u001b[39m\u001b[38;5;124mname\u001b[39m\u001b[38;5;124m'\u001b[39m)))\n",
      "File \u001b[1;32m~\\anaconda3\\Lib\\site-packages\\ee\\__init__.py:268\u001b[0m, in \u001b[0;36m_Promote\u001b[1;34m(arg, a_class)\u001b[0m\n\u001b[0;32m    265\u001b[0m \u001b[38;5;28;01melif\u001b[39;00m \u001b[38;5;28mcallable\u001b[39m(arg):\n\u001b[0;32m    266\u001b[0m   \u001b[38;5;66;03m# A native function that needs to be wrapped.\u001b[39;00m\n\u001b[0;32m    267\u001b[0m   args_count \u001b[38;5;241m=\u001b[39m \u001b[38;5;28mlen\u001b[39m(inspect\u001b[38;5;241m.\u001b[39mgetfullargspec(arg)\u001b[38;5;241m.\u001b[39margs)\n\u001b[1;32m--> 268\u001b[0m   \u001b[38;5;28;01mreturn\u001b[39;00m CustomFunction\u001b[38;5;241m.\u001b[39mcreate(arg, \u001b[38;5;124m'\u001b[39m\u001b[38;5;124mObject\u001b[39m\u001b[38;5;124m'\u001b[39m, [\u001b[38;5;124m'\u001b[39m\u001b[38;5;124mObject\u001b[39m\u001b[38;5;124m'\u001b[39m] \u001b[38;5;241m*\u001b[39m args_count)\n\u001b[0;32m    269\u001b[0m \u001b[38;5;28;01melif\u001b[39;00m \u001b[38;5;28misinstance\u001b[39m(arg, Encodable):\n\u001b[0;32m    270\u001b[0m   \u001b[38;5;66;03m# An ee.Function or a computed function like the return value of\u001b[39;00m\n\u001b[0;32m    271\u001b[0m   \u001b[38;5;66;03m# Image.parseExpression().\u001b[39;00m\n\u001b[0;32m    272\u001b[0m   \u001b[38;5;28;01mreturn\u001b[39;00m arg\n",
      "File \u001b[1;32m~\\anaconda3\\Lib\\site-packages\\ee\\customfunction.py:127\u001b[0m, in \u001b[0;36mCustomFunction.create\u001b[1;34m(func, return_type, arg_types)\u001b[0m\n\u001b[0;32m    121\u001b[0m args \u001b[38;5;241m=\u001b[39m [{\u001b[38;5;124m'\u001b[39m\u001b[38;5;124mname\u001b[39m\u001b[38;5;124m'\u001b[39m: \u001b[38;5;28;01mNone\u001b[39;00m, \u001b[38;5;124m'\u001b[39m\u001b[38;5;124mtype\u001b[39m\u001b[38;5;124m'\u001b[39m: StringifyType(i)} \u001b[38;5;28;01mfor\u001b[39;00m i \u001b[38;5;129;01min\u001b[39;00m arg_types]\n\u001b[0;32m    122\u001b[0m signature \u001b[38;5;241m=\u001b[39m {\n\u001b[0;32m    123\u001b[0m     \u001b[38;5;124m'\u001b[39m\u001b[38;5;124mname\u001b[39m\u001b[38;5;124m'\u001b[39m: \u001b[38;5;124m'\u001b[39m\u001b[38;5;124m'\u001b[39m,\n\u001b[0;32m    124\u001b[0m     \u001b[38;5;124m'\u001b[39m\u001b[38;5;124mreturns\u001b[39m\u001b[38;5;124m'\u001b[39m: StringifyType(return_type),\n\u001b[0;32m    125\u001b[0m     \u001b[38;5;124m'\u001b[39m\u001b[38;5;124margs\u001b[39m\u001b[38;5;124m'\u001b[39m: args\n\u001b[0;32m    126\u001b[0m }\n\u001b[1;32m--> 127\u001b[0m \u001b[38;5;28;01mreturn\u001b[39;00m CustomFunction(signature, func)\n",
      "File \u001b[1;32m~\\anaconda3\\Lib\\site-packages\\ee\\customfunction.py:41\u001b[0m, in \u001b[0;36mCustomFunction.__init__\u001b[1;34m(self, signature, body)\u001b[0m\n\u001b[0;32m     27\u001b[0m \u001b[38;5;250m\u001b[39m\u001b[38;5;124;03m\"\"\"Creates a function defined by a given expression with unbound variables.\u001b[39;00m\n\u001b[0;32m     28\u001b[0m \n\u001b[0;32m     29\u001b[0m \u001b[38;5;124;03mThe expression is created by evaluating the given function\u001b[39;00m\n\u001b[1;32m   (...)\u001b[0m\n\u001b[0;32m     36\u001b[0m \u001b[38;5;124;03m  body: The Python function to evaluate.\u001b[39;00m\n\u001b[0;32m     37\u001b[0m \u001b[38;5;124;03m\"\"\"\u001b[39;00m\n\u001b[0;32m     38\u001b[0m variables \u001b[38;5;241m=\u001b[39m [CustomFunction\u001b[38;5;241m.\u001b[39mvariable(arg[\u001b[38;5;124m'\u001b[39m\u001b[38;5;124mtype\u001b[39m\u001b[38;5;124m'\u001b[39m], arg[\u001b[38;5;124m'\u001b[39m\u001b[38;5;124mname\u001b[39m\u001b[38;5;124m'\u001b[39m])\n\u001b[0;32m     39\u001b[0m              \u001b[38;5;28;01mfor\u001b[39;00m arg \u001b[38;5;129;01min\u001b[39;00m signature[\u001b[38;5;124m'\u001b[39m\u001b[38;5;124margs\u001b[39m\u001b[38;5;124m'\u001b[39m]]\n\u001b[1;32m---> 41\u001b[0m \u001b[38;5;28;01mif\u001b[39;00m body(\u001b[38;5;241m*\u001b[39mvariables) \u001b[38;5;129;01mis\u001b[39;00m \u001b[38;5;28;01mNone\u001b[39;00m:\n\u001b[0;32m     42\u001b[0m   \u001b[38;5;28;01mraise\u001b[39;00m ee_exception\u001b[38;5;241m.\u001b[39mEEException(\u001b[38;5;124m'\u001b[39m\u001b[38;5;124mUser-defined methods must return a value\u001b[39m\u001b[38;5;124m'\u001b[39m)\n\u001b[0;32m     44\u001b[0m \u001b[38;5;66;03m# The signature of the function.\u001b[39;00m\n",
      "Cell \u001b[1;32mIn[15], line 46\u001b[0m, in \u001b[0;36mharmonic_terms.<locals>.compute_harmonics\u001b[1;34m(f)\u001b[0m\n\u001b[0;32m     44\u001b[0m \u001b[38;5;28;01mdef\u001b[39;00m \u001b[38;5;21mcompute_harmonics\u001b[39m(f):\n\u001b[0;32m     45\u001b[0m     f \u001b[38;5;241m=\u001b[39m ee\u001b[38;5;241m.\u001b[39mNumber(f)\n\u001b[1;32m---> 46\u001b[0m     cos_band \u001b[38;5;241m=\u001b[39m timeRadians\u001b[38;5;241m.\u001b[39mmultiply(f)\u001b[38;5;241m.\u001b[39mcos()\u001b[38;5;241m.\u001b[39mrename(\u001b[38;5;124mf\u001b[39m\u001b[38;5;124m'\u001b[39m\u001b[38;5;124mcos_\u001b[39m\u001b[38;5;132;01m{\u001b[39;00mf\u001b[38;5;241m.\u001b[39mgetInfo()\u001b[38;5;132;01m}\u001b[39;00m\u001b[38;5;124m'\u001b[39m)\n\u001b[0;32m     47\u001b[0m     sin_band \u001b[38;5;241m=\u001b[39m timeRadians\u001b[38;5;241m.\u001b[39mmultiply(f)\u001b[38;5;241m.\u001b[39msin()\u001b[38;5;241m.\u001b[39mrename(\u001b[38;5;124mf\u001b[39m\u001b[38;5;124m'\u001b[39m\u001b[38;5;124msin_\u001b[39m\u001b[38;5;132;01m{\u001b[39;00mf\u001b[38;5;241m.\u001b[39mgetInfo()\u001b[38;5;132;01m}\u001b[39;00m\u001b[38;5;124m'\u001b[39m)\n\u001b[0;32m     48\u001b[0m     \u001b[38;5;28;01mreturn\u001b[39;00m image\u001b[38;5;241m.\u001b[39maddBands(cos_band)\u001b[38;5;241m.\u001b[39maddBands(sin_band)\n",
      "File \u001b[1;32m~\\anaconda3\\Lib\\site-packages\\ee\\computedobject.py:105\u001b[0m, in \u001b[0;36mComputedObject.getInfo\u001b[1;34m(self)\u001b[0m\n\u001b[0;32m     99\u001b[0m \u001b[38;5;28;01mdef\u001b[39;00m \u001b[38;5;21mgetInfo\u001b[39m(\u001b[38;5;28mself\u001b[39m) \u001b[38;5;241m-\u001b[39m\u001b[38;5;241m>\u001b[39m Optional[Any]:\n\u001b[0;32m    100\u001b[0m \u001b[38;5;250m  \u001b[39m\u001b[38;5;124;03m\"\"\"Fetch and return information about this object.\u001b[39;00m\n\u001b[0;32m    101\u001b[0m \n\u001b[0;32m    102\u001b[0m \u001b[38;5;124;03m  Returns:\u001b[39;00m\n\u001b[0;32m    103\u001b[0m \u001b[38;5;124;03m    The object can evaluate to anything.\u001b[39;00m\n\u001b[0;32m    104\u001b[0m \u001b[38;5;124;03m  \"\"\"\u001b[39;00m\n\u001b[1;32m--> 105\u001b[0m   \u001b[38;5;28;01mreturn\u001b[39;00m data\u001b[38;5;241m.\u001b[39mcomputeValue(\u001b[38;5;28mself\u001b[39m)\n",
      "File \u001b[1;32m~\\anaconda3\\Lib\\site-packages\\ee\\data.py:1050\u001b[0m, in \u001b[0;36mcomputeValue\u001b[1;34m(obj)\u001b[0m\n\u001b[0;32m   1041\u001b[0m \u001b[38;5;28;01mdef\u001b[39;00m \u001b[38;5;21mcomputeValue\u001b[39m(obj: computedobject\u001b[38;5;241m.\u001b[39mComputedObject) \u001b[38;5;241m-\u001b[39m\u001b[38;5;241m>\u001b[39m Any:\n\u001b[0;32m   1042\u001b[0m \u001b[38;5;250m  \u001b[39m\u001b[38;5;124;03m\"\"\"Sends a request to compute a value.\u001b[39;00m\n\u001b[0;32m   1043\u001b[0m \n\u001b[0;32m   1044\u001b[0m \u001b[38;5;124;03m  Args:\u001b[39;00m\n\u001b[1;32m   (...)\u001b[0m\n\u001b[0;32m   1048\u001b[0m \u001b[38;5;124;03m    The result of evaluating that object on the server.\u001b[39;00m\n\u001b[0;32m   1049\u001b[0m \u001b[38;5;124;03m  \"\"\"\u001b[39;00m\n\u001b[1;32m-> 1050\u001b[0m   body \u001b[38;5;241m=\u001b[39m {\u001b[38;5;124m'\u001b[39m\u001b[38;5;124mexpression\u001b[39m\u001b[38;5;124m'\u001b[39m: serializer\u001b[38;5;241m.\u001b[39mencode(obj, for_cloud_api\u001b[38;5;241m=\u001b[39m\u001b[38;5;28;01mTrue\u001b[39;00m)}\n\u001b[0;32m   1051\u001b[0m   _maybe_populate_workload_tag(body)\n\u001b[0;32m   1053\u001b[0m   \u001b[38;5;28;01mreturn\u001b[39;00m _execute_cloud_call(\n\u001b[0;32m   1054\u001b[0m       _get_cloud_projects()\n\u001b[0;32m   1055\u001b[0m       \u001b[38;5;241m.\u001b[39mvalue()\n\u001b[0;32m   1056\u001b[0m       \u001b[38;5;241m.\u001b[39mcompute(body\u001b[38;5;241m=\u001b[39mbody, project\u001b[38;5;241m=\u001b[39m_get_projects_path(), prettyPrint\u001b[38;5;241m=\u001b[39m\u001b[38;5;28;01mFalse\u001b[39;00m)\n\u001b[0;32m   1057\u001b[0m   )[\u001b[38;5;124m'\u001b[39m\u001b[38;5;124mresult\u001b[39m\u001b[38;5;124m'\u001b[39m]\n",
      "File \u001b[1;32m~\\anaconda3\\Lib\\site-packages\\ee\\serializer.py:302\u001b[0m, in \u001b[0;36mencode\u001b[1;34m(obj, is_compound, for_cloud_api, unbound_name)\u001b[0m\n\u001b[0;32m    286\u001b[0m \u001b[38;5;250m\u001b[39m\u001b[38;5;124;03m\"\"\"Serialize an object to a JSON-compatible structure for API calls.\u001b[39;00m\n\u001b[0;32m    287\u001b[0m \n\u001b[0;32m    288\u001b[0m \u001b[38;5;124;03mArgs:\u001b[39;00m\n\u001b[1;32m   (...)\u001b[0m\n\u001b[0;32m    298\u001b[0m \u001b[38;5;124;03m  A JSON-compatible structure representing the input.\u001b[39;00m\n\u001b[0;32m    299\u001b[0m \u001b[38;5;124;03m\"\"\"\u001b[39;00m\n\u001b[0;32m    300\u001b[0m serializer \u001b[38;5;241m=\u001b[39m Serializer(\n\u001b[0;32m    301\u001b[0m     is_compound, for_cloud_api\u001b[38;5;241m=\u001b[39mfor_cloud_api, unbound_name\u001b[38;5;241m=\u001b[39munbound_name)\n\u001b[1;32m--> 302\u001b[0m \u001b[38;5;28;01mreturn\u001b[39;00m serializer\u001b[38;5;241m.\u001b[39m_encode(obj)\n",
      "File \u001b[1;32m~\\anaconda3\\Lib\\site-packages\\ee\\serializer.py:80\u001b[0m, in \u001b[0;36mSerializer._encode\u001b[1;34m(self, obj)\u001b[0m\n\u001b[0;32m     71\u001b[0m \u001b[38;5;250m\u001b[39m\u001b[38;5;124;03m\"\"\"Encodes a top level object to be executed server-side.\u001b[39;00m\n\u001b[0;32m     72\u001b[0m \n\u001b[0;32m     73\u001b[0m \u001b[38;5;124;03mArgs:\u001b[39;00m\n\u001b[1;32m   (...)\u001b[0m\n\u001b[0;32m     77\u001b[0m \u001b[38;5;124;03m  An encoded object ready for JSON serialization.\u001b[39;00m\n\u001b[0;32m     78\u001b[0m \u001b[38;5;124;03m\"\"\"\u001b[39;00m\n\u001b[0;32m     79\u001b[0m \u001b[38;5;28;01mif\u001b[39;00m \u001b[38;5;28mself\u001b[39m\u001b[38;5;241m.\u001b[39m_for_cloud_api:\n\u001b[1;32m---> 80\u001b[0m   \u001b[38;5;28;01mreturn\u001b[39;00m \u001b[38;5;28mself\u001b[39m\u001b[38;5;241m.\u001b[39m_encode_for_cloud_api(obj)\n\u001b[0;32m     81\u001b[0m value \u001b[38;5;241m=\u001b[39m \u001b[38;5;28mself\u001b[39m\u001b[38;5;241m.\u001b[39m_encode_value(obj)\n\u001b[0;32m     82\u001b[0m \u001b[38;5;28;01mif\u001b[39;00m \u001b[38;5;28mself\u001b[39m\u001b[38;5;241m.\u001b[39m_is_compound:\n",
      "File \u001b[1;32m~\\anaconda3\\Lib\\site-packages\\ee\\serializer.py:98\u001b[0m, in \u001b[0;36mSerializer._encode_for_cloud_api\u001b[1;34m(self, obj)\u001b[0m\n\u001b[0;32m     96\u001b[0m \u001b[38;5;28;01mdef\u001b[39;00m \u001b[38;5;21m_encode_for_cloud_api\u001b[39m(\u001b[38;5;28mself\u001b[39m, obj: Any) \u001b[38;5;241m-\u001b[39m\u001b[38;5;241m>\u001b[39m Any:\n\u001b[0;32m     97\u001b[0m \u001b[38;5;250m  \u001b[39m\u001b[38;5;124;03m\"\"\"Encodes an object as an Expression or quasi-Expression.\"\"\"\u001b[39;00m\n\u001b[1;32m---> 98\u001b[0m   value \u001b[38;5;241m=\u001b[39m \u001b[38;5;28mself\u001b[39m\u001b[38;5;241m.\u001b[39m_encode_cloud_object(obj)\n\u001b[0;32m     99\u001b[0m   \u001b[38;5;28;01mif\u001b[39;00m \u001b[38;5;28mself\u001b[39m\u001b[38;5;241m.\u001b[39m_is_compound:\n\u001b[0;32m    100\u001b[0m     \u001b[38;5;66;03m# Wrap the scopes and final value into an Expression.\u001b[39;00m\n\u001b[0;32m    101\u001b[0m     value \u001b[38;5;241m=\u001b[39m _ExpressionOptimizer(value, \u001b[38;5;28mself\u001b[39m\u001b[38;5;241m.\u001b[39m_scope)\u001b[38;5;241m.\u001b[39moptimize()\n",
      "File \u001b[1;32m~\\anaconda3\\Lib\\site-packages\\ee\\serializer.py:220\u001b[0m, in \u001b[0;36mSerializer._encode_cloud_object\u001b[1;34m(self, obj)\u001b[0m\n\u001b[0;32m    208\u001b[0m   result \u001b[38;5;241m=\u001b[39m {\n\u001b[0;32m    209\u001b[0m       \u001b[38;5;124m'\u001b[39m\u001b[38;5;124mfunctionInvocationValue\u001b[39m\u001b[38;5;124m'\u001b[39m: {\n\u001b[0;32m    210\u001b[0m           \u001b[38;5;124m'\u001b[39m\u001b[38;5;124mfunctionName\u001b[39m\u001b[38;5;124m'\u001b[39m: \u001b[38;5;124m'\u001b[39m\u001b[38;5;124mDate\u001b[39m\u001b[38;5;124m'\u001b[39m,\n\u001b[1;32m   (...)\u001b[0m\n\u001b[0;32m    216\u001b[0m       }\n\u001b[0;32m    217\u001b[0m   }\n\u001b[0;32m    218\u001b[0m \u001b[38;5;28;01melif\u001b[39;00m \u001b[38;5;28misinstance\u001b[39m(obj, encodable\u001b[38;5;241m.\u001b[39mEncodable):\n\u001b[0;32m    219\u001b[0m   \u001b[38;5;66;03m# Some objects know how to encode themselves.\u001b[39;00m\n\u001b[1;32m--> 220\u001b[0m   result \u001b[38;5;241m=\u001b[39m obj\u001b[38;5;241m.\u001b[39mencode_cloud_value(\u001b[38;5;28mself\u001b[39m\u001b[38;5;241m.\u001b[39m_encode_cloud_object)\n\u001b[0;32m    221\u001b[0m \u001b[38;5;28;01melif\u001b[39;00m \u001b[38;5;28misinstance\u001b[39m(obj, (\u001b[38;5;28mlist\u001b[39m, \u001b[38;5;28mtuple\u001b[39m)):\n\u001b[0;32m    222\u001b[0m   \u001b[38;5;66;03m# Lists are encoded recursively.\u001b[39;00m\n\u001b[0;32m    223\u001b[0m   \u001b[38;5;28;01mif\u001b[39;00m \u001b[38;5;28mself\u001b[39m\u001b[38;5;241m.\u001b[39m_is_compound:\n",
      "File \u001b[1;32m~\\anaconda3\\Lib\\site-packages\\ee\\ee_number.py:74\u001b[0m, in \u001b[0;36mNumber.encode_cloud_value\u001b[1;34m(self, opt_encoder)\u001b[0m\n\u001b[0;32m     72\u001b[0m   \u001b[38;5;28;01mreturn\u001b[39;00m _cloud_api_utils\u001b[38;5;241m.\u001b[39mencode_number_as_cloud_value(\u001b[38;5;28mself\u001b[39m\u001b[38;5;241m.\u001b[39m_number)\n\u001b[0;32m     73\u001b[0m \u001b[38;5;28;01melse\u001b[39;00m:\n\u001b[1;32m---> 74\u001b[0m   \u001b[38;5;28;01mreturn\u001b[39;00m \u001b[38;5;28msuper\u001b[39m()\u001b[38;5;241m.\u001b[39mencode_cloud_value(opt_encoder)\n",
      "File \u001b[1;32m~\\anaconda3\\Lib\\site-packages\\ee\\computedobject.py:148\u001b[0m, in \u001b[0;36mComputedObject.encode_cloud_value\u001b[1;34m(self, encoder)\u001b[0m\n\u001b[0;32m    141\u001b[0m     ref \u001b[38;5;241m=\u001b[39m encoder\u001b[38;5;241m.\u001b[39m\u001b[38;5;18m__self__\u001b[39m\u001b[38;5;241m.\u001b[39munbound_name\n\u001b[0;32m    142\u001b[0m   \u001b[38;5;28;01mif\u001b[39;00m ref \u001b[38;5;129;01mis\u001b[39;00m \u001b[38;5;28;01mNone\u001b[39;00m:\n\u001b[0;32m    143\u001b[0m     \u001b[38;5;66;03m# We are trying to call getInfo() or make some other server call inside\u001b[39;00m\n\u001b[0;32m    144\u001b[0m     \u001b[38;5;66;03m# a function passed to collection.map() or .iterate(), and the call uses\u001b[39;00m\n\u001b[0;32m    145\u001b[0m     \u001b[38;5;66;03m# one of the function arguments. The argument will be unbound outside of\u001b[39;00m\n\u001b[0;32m    146\u001b[0m     \u001b[38;5;66;03m# the map operation and cannot be evaluated. See the Count Functions\u001b[39;00m\n\u001b[0;32m    147\u001b[0m     \u001b[38;5;66;03m# case in customfunction.py for details on the unbound_name mechanism.\u001b[39;00m\n\u001b[1;32m--> 148\u001b[0m     \u001b[38;5;28;01mraise\u001b[39;00m ee_exception\u001b[38;5;241m.\u001b[39mEEException(\n\u001b[0;32m    149\u001b[0m         \u001b[38;5;124m\"\u001b[39m\u001b[38;5;124mA mapped function\u001b[39m\u001b[38;5;124m'\u001b[39m\u001b[38;5;124ms arguments cannot be used in \u001b[39m\u001b[38;5;124m\"\u001b[39m\n\u001b[0;32m    150\u001b[0m         \u001b[38;5;124m'\u001b[39m\u001b[38;5;124mclient-side operations\u001b[39m\u001b[38;5;124m'\u001b[39m\n\u001b[0;32m    151\u001b[0m     )\n\u001b[0;32m    152\u001b[0m   \u001b[38;5;28;01mreturn\u001b[39;00m {\u001b[38;5;124m'\u001b[39m\u001b[38;5;124margumentReference\u001b[39m\u001b[38;5;124m'\u001b[39m: ref}\n\u001b[0;32m    153\u001b[0m \u001b[38;5;28;01melse\u001b[39;00m:\n",
      "\u001b[1;31mEEException\u001b[0m: A mapped function's arguments cannot be used in client-side operations"
     ]
    }
   ],
   "source": [
    "import ee\n",
    "import geemap\n",
    "\n",
    "# Inicializar la biblioteca Earth Engine\n",
    "ee.Initialize()\n",
    "\n",
    "# Definir la región de interés (ROI)\n",
    "roi = ee.Geometry.Polygon(\n",
    "    [[[-122.45, 37.74],\n",
    "      [-122.45, 37.8],\n",
    "      [-122.4, 37.8],\n",
    "      [-122.4, 37.74]]])\n",
    "\n",
    "# Función para calcular el GCVI\n",
    "def calculate_gcvi(image):\n",
    "    gcvi = image.expression(\n",
    "        'NIR / GREEN - 1', {\n",
    "            'NIR': image.select('SR_B5'),  # NIR band\n",
    "            'GREEN': image.select('SR_B3')  # Green band\n",
    "        }).rename('GCVI')\n",
    "    return image.addBands(gcvi)\n",
    "\n",
    "# Filtrar la colección de imágenes\n",
    "collection = (ee.ImageCollection('LANDSAT/LC08/C02/T1_L2')\n",
    "              .filterBounds(roi)\n",
    "              .filterDate('2017-01-01', '2017-12-31')\n",
    "              .map(calculate_gcvi)\n",
    "              .select('GCVI')\n",
    "              .sort('system:time_start'))\n",
    "\n",
    "# Crear el composite harmonico\n",
    "harmonicLandsat = collection.map(lambda img: img.set('date', img.date().format('YYYY-MM-dd')))\n",
    "\n",
    "# Definir las frecuencias y términos de Fourier\n",
    "harmonics = 3\n",
    "harmonics_frequencies = ee.List.sequence(1, harmonics)\n",
    "\n",
    "# Definir la función que aplica la transformada de Fourier\n",
    "def harmonic_terms(image):\n",
    "    date = ee.Date(image.get('system:time_start'))\n",
    "    years = ee.Date('1970-01-01').difference(date, 'year')\n",
    "    timeRadians = ee.Image.constant(years.multiply(2 * 3.141592))\n",
    "    \n",
    "    def compute_harmonics(f):\n",
    "        f = ee.Number(f)\n",
    "        cos_band = timeRadians.multiply(f).cos().rename(f'cos_{f.getInfo()}')\n",
    "        sin_band = timeRadians.multiply(f).sin().rename(f'sin_{f.getInfo()}')\n",
    "        return image.addBands(cos_band).addBands(sin_band)\n",
    "    \n",
    "    harmonic_images = harmonics_frequencies.map(compute_harmonics)\n",
    "    harmonic_image = ee.Image(harmonic_images.iterate(lambda img, result: ee.Image(result).addBands(img), ee.Image()))\n",
    "    \n",
    "    return image.addBands(harmonic_image)\n",
    "\n",
    "# Mapear la función a la colección de imágenes\n",
    "harmonic_collection = harmonicLandsat.map(harmonic_terms)\n",
    "\n",
    "# Unir todos los términos en una sola imagen\n",
    "harmonic_img = harmonic_collection.toArray()\n",
    "\n",
    "# Preparar los coeficientes\n",
    "coefficients = harmonic_img.arraySolve(ee.Image.constant(harmonics))\n",
    "\n",
    "# Extraer los coeficientes\n",
    "harmonicCoefficients = ee.Image(coefficients)\n",
    "\n",
    "# Función para aplicar la regresión y calcular R² y RMSE\n",
    "def fit_harmonic_model(image):\n",
    "    fitted = image.select(['cos_1', 'sin_1']).reduce(ee.Reducer.linearFit())\n",
    "    residuals = image.subtract(fitted)\n",
    "    rmse = residuals.pow(2).reduce(ee.Reducer.mean()).sqrt().rename('RMSE')\n",
    "    r_squared = fitted.select('scale').pow(2).rename('R_squared')\n",
    "    return image.addBands(fitted).addBands(rmse).addBands(r_squared)\n",
    "\n",
    "# Aplicar el modelo\n",
    "fitted_harmonic_img = fit_harmonic_model(harmonicCoefficients)\n",
    "\n",
    "# Visualización en el mapa\n",
    "Map = geemap.Map(center=[37.76, -122.44], zoom=10)\n",
    "\n",
    "# Visualizar los coeficientes armónicos\n",
    "Map.addLayer(fitted_harmonic_img.select(['offset']), {'min': -0.5, 'max': 0.5, 'palette': ['blue', 'white', 'red']}, 'Offset')\n",
    "Map.addLayer(fitted_harmonic_img.select(['scale']), {'min': 0, 'max': 1, 'palette': ['black', 'white']}, 'Scale')\n",
    "Map.addLayer(fitted_harmonic_img.select(['RMSE']), {'min': 0, 'max': 0.5, 'palette': ['black', 'red']}, 'RMSE')\n",
    "Map.addLayer(fitted_harmonic_img.select(['R_squared']), {'min': 0, 'max': 1, 'palette': ['white', 'green']}, 'R_squared')\n",
    "\n",
    "# Mostrar el mapa\n",
    "Map.addLayer(roi, {}, 'ROI')\n",
    "Map.addLayerControl()\n",
    "Map\n"
   ]
  },
  {
   "cell_type": "code",
   "execution_count": null,
   "id": "7c3a6aef-8b10-4125-a492-50a3a8972384",
   "metadata": {},
   "outputs": [],
   "source": []
  }
 ],
 "metadata": {
  "kernelspec": {
   "display_name": "Python 3 (ipykernel)",
   "language": "python",
   "name": "python3"
  },
  "language_info": {
   "codemirror_mode": {
    "name": "ipython",
    "version": 3
   },
   "file_extension": ".py",
   "mimetype": "text/x-python",
   "name": "python",
   "nbconvert_exporter": "python",
   "pygments_lexer": "ipython3",
   "version": "3.11.5"
  }
 },
 "nbformat": 4,
 "nbformat_minor": 5
}
